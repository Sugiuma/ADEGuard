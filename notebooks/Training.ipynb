{
 "cells": [
  {
   "cell_type": "code",
   "execution_count": 1,
   "metadata": {
    "colab": {
     "base_uri": "https://localhost:8080/"
    },
    "collapsed": true,
    "executionInfo": {
     "elapsed": 53027,
     "status": "ok",
     "timestamp": 1759165013958,
     "user": {
      "displayName": "Suganya G",
      "userId": "14776330239557954849"
     },
     "user_tz": 240
    },
    "id": "IYj1HZ1j7ZuA",
    "jupyter": {
     "outputs_hidden": true
    },
    "outputId": "ae5d6b44-0f14-4d24-a131-c4e083723522"
   },
   "outputs": [
    {
     "name": "stdout",
     "output_type": "stream",
     "text": [
      "Requirement already satisfied: transformers in /usr/local/lib/python3.12/dist-packages (4.56.1)\n",
      "Requirement already satisfied: datasets in /usr/local/lib/python3.12/dist-packages (4.0.0)\n",
      "Collecting seqeval\n",
      "  Downloading seqeval-1.2.2.tar.gz (43 kB)\n",
      "\u001b[2K     \u001b[90m━━━━━━━━━━━━━━━━━━━━━━━━━━━━━━━━━━━━━━━━\u001b[0m \u001b[32m43.6/43.6 kB\u001b[0m \u001b[31m1.4 MB/s\u001b[0m eta \u001b[36m0:00:00\u001b[0m\n",
      "\u001b[?25h  Preparing metadata (setup.py) ... \u001b[?25l\u001b[?25hdone\n",
      "Collecting evaluate\n",
      "  Downloading evaluate-0.4.6-py3-none-any.whl.metadata (9.5 kB)\n",
      "Requirement already satisfied: filelock in /usr/local/lib/python3.12/dist-packages (from transformers) (3.19.1)\n",
      "Requirement already satisfied: huggingface-hub<1.0,>=0.34.0 in /usr/local/lib/python3.12/dist-packages (from transformers) (0.35.0)\n",
      "Requirement already satisfied: numpy>=1.17 in /usr/local/lib/python3.12/dist-packages (from transformers) (2.0.2)\n",
      "Requirement already satisfied: packaging>=20.0 in /usr/local/lib/python3.12/dist-packages (from transformers) (25.0)\n",
      "Requirement already satisfied: pyyaml>=5.1 in /usr/local/lib/python3.12/dist-packages (from transformers) (6.0.2)\n",
      "Requirement already satisfied: regex!=2019.12.17 in /usr/local/lib/python3.12/dist-packages (from transformers) (2024.11.6)\n",
      "Requirement already satisfied: requests in /usr/local/lib/python3.12/dist-packages (from transformers) (2.32.4)\n",
      "Requirement already satisfied: tokenizers<=0.23.0,>=0.22.0 in /usr/local/lib/python3.12/dist-packages (from transformers) (0.22.0)\n",
      "Requirement already satisfied: safetensors>=0.4.3 in /usr/local/lib/python3.12/dist-packages (from transformers) (0.6.2)\n",
      "Requirement already satisfied: tqdm>=4.27 in /usr/local/lib/python3.12/dist-packages (from transformers) (4.67.1)\n",
      "Requirement already satisfied: pyarrow>=15.0.0 in /usr/local/lib/python3.12/dist-packages (from datasets) (18.1.0)\n",
      "Requirement already satisfied: dill<0.3.9,>=0.3.0 in /usr/local/lib/python3.12/dist-packages (from datasets) (0.3.8)\n",
      "Requirement already satisfied: pandas in /usr/local/lib/python3.12/dist-packages (from datasets) (2.2.2)\n",
      "Requirement already satisfied: xxhash in /usr/local/lib/python3.12/dist-packages (from datasets) (3.5.0)\n",
      "Requirement already satisfied: multiprocess<0.70.17 in /usr/local/lib/python3.12/dist-packages (from datasets) (0.70.16)\n",
      "Requirement already satisfied: fsspec<=2025.3.0,>=2023.1.0 in /usr/local/lib/python3.12/dist-packages (from fsspec[http]<=2025.3.0,>=2023.1.0->datasets) (2025.3.0)\n",
      "Requirement already satisfied: scikit-learn>=0.21.3 in /usr/local/lib/python3.12/dist-packages (from seqeval) (1.6.1)\n",
      "Requirement already satisfied: aiohttp!=4.0.0a0,!=4.0.0a1 in /usr/local/lib/python3.12/dist-packages (from fsspec[http]<=2025.3.0,>=2023.1.0->datasets) (3.12.15)\n",
      "Requirement already satisfied: typing-extensions>=3.7.4.3 in /usr/local/lib/python3.12/dist-packages (from huggingface-hub<1.0,>=0.34.0->transformers) (4.15.0)\n",
      "Requirement already satisfied: hf-xet<2.0.0,>=1.1.3 in /usr/local/lib/python3.12/dist-packages (from huggingface-hub<1.0,>=0.34.0->transformers) (1.1.10)\n",
      "Requirement already satisfied: charset_normalizer<4,>=2 in /usr/local/lib/python3.12/dist-packages (from requests->transformers) (3.4.3)\n",
      "Requirement already satisfied: idna<4,>=2.5 in /usr/local/lib/python3.12/dist-packages (from requests->transformers) (3.10)\n",
      "Requirement already satisfied: urllib3<3,>=1.21.1 in /usr/local/lib/python3.12/dist-packages (from requests->transformers) (2.5.0)\n",
      "Requirement already satisfied: certifi>=2017.4.17 in /usr/local/lib/python3.12/dist-packages (from requests->transformers) (2025.8.3)\n",
      "Requirement already satisfied: scipy>=1.6.0 in /usr/local/lib/python3.12/dist-packages (from scikit-learn>=0.21.3->seqeval) (1.16.2)\n",
      "Requirement already satisfied: joblib>=1.2.0 in /usr/local/lib/python3.12/dist-packages (from scikit-learn>=0.21.3->seqeval) (1.5.2)\n",
      "Requirement already satisfied: threadpoolctl>=3.1.0 in /usr/local/lib/python3.12/dist-packages (from scikit-learn>=0.21.3->seqeval) (3.6.0)\n",
      "Requirement already satisfied: python-dateutil>=2.8.2 in /usr/local/lib/python3.12/dist-packages (from pandas->datasets) (2.9.0.post0)\n",
      "Requirement already satisfied: pytz>=2020.1 in /usr/local/lib/python3.12/dist-packages (from pandas->datasets) (2025.2)\n",
      "Requirement already satisfied: tzdata>=2022.7 in /usr/local/lib/python3.12/dist-packages (from pandas->datasets) (2025.2)\n",
      "Requirement already satisfied: aiohappyeyeballs>=2.5.0 in /usr/local/lib/python3.12/dist-packages (from aiohttp!=4.0.0a0,!=4.0.0a1->fsspec[http]<=2025.3.0,>=2023.1.0->datasets) (2.6.1)\n",
      "Requirement already satisfied: aiosignal>=1.4.0 in /usr/local/lib/python3.12/dist-packages (from aiohttp!=4.0.0a0,!=4.0.0a1->fsspec[http]<=2025.3.0,>=2023.1.0->datasets) (1.4.0)\n",
      "Requirement already satisfied: attrs>=17.3.0 in /usr/local/lib/python3.12/dist-packages (from aiohttp!=4.0.0a0,!=4.0.0a1->fsspec[http]<=2025.3.0,>=2023.1.0->datasets) (25.3.0)\n",
      "Requirement already satisfied: frozenlist>=1.1.1 in /usr/local/lib/python3.12/dist-packages (from aiohttp!=4.0.0a0,!=4.0.0a1->fsspec[http]<=2025.3.0,>=2023.1.0->datasets) (1.7.0)\n",
      "Requirement already satisfied: multidict<7.0,>=4.5 in /usr/local/lib/python3.12/dist-packages (from aiohttp!=4.0.0a0,!=4.0.0a1->fsspec[http]<=2025.3.0,>=2023.1.0->datasets) (6.6.4)\n",
      "Requirement already satisfied: propcache>=0.2.0 in /usr/local/lib/python3.12/dist-packages (from aiohttp!=4.0.0a0,!=4.0.0a1->fsspec[http]<=2025.3.0,>=2023.1.0->datasets) (0.3.2)\n",
      "Requirement already satisfied: yarl<2.0,>=1.17.0 in /usr/local/lib/python3.12/dist-packages (from aiohttp!=4.0.0a0,!=4.0.0a1->fsspec[http]<=2025.3.0,>=2023.1.0->datasets) (1.20.1)\n",
      "Requirement already satisfied: six>=1.5 in /usr/local/lib/python3.12/dist-packages (from python-dateutil>=2.8.2->pandas->datasets) (1.17.0)\n",
      "Downloading evaluate-0.4.6-py3-none-any.whl (84 kB)\n",
      "\u001b[2K   \u001b[90m━━━━━━━━━━━━━━━━━━━━━━━━━━━━━━━━━━━━━━━━\u001b[0m \u001b[32m84.1/84.1 kB\u001b[0m \u001b[31m5.8 MB/s\u001b[0m eta \u001b[36m0:00:00\u001b[0m\n",
      "\u001b[?25hBuilding wheels for collected packages: seqeval\n",
      "  Building wheel for seqeval (setup.py) ... \u001b[?25l\u001b[?25hdone\n",
      "  Created wheel for seqeval: filename=seqeval-1.2.2-py3-none-any.whl size=16162 sha256=c421721eed8a954159418754e171c1c09ff36f63aaf93d06822794b0f92e5f7c\n",
      "  Stored in directory: /root/.cache/pip/wheels/5f/b8/73/0b2c1a76b701a677653dd79ece07cfabd7457989dbfbdcd8d7\n",
      "Successfully built seqeval\n",
      "Installing collected packages: seqeval, evaluate\n",
      "Successfully installed evaluate-0.4.6 seqeval-1.2.2\n"
     ]
    }
   ],
   "source": [
    "!pip install transformers datasets seqeval evaluate\n",
    "\n",
    "from transformers import AutoTokenizer, AutoModelForTokenClassification, TrainingArguments, Trainer, DataCollatorForTokenClassification\n",
    "from datasets import Dataset, DatasetDict\n",
    "import numpy as np\n",
    "from seqeval.metrics import precision_score, recall_score, f1_score, accuracy_score\n",
    "import random\n",
    "from sklearn.model_selection import train_test_split"
   ]
  },
  {
   "cell_type": "code",
   "execution_count": 2,
   "metadata": {
    "colab": {
     "base_uri": "https://localhost:8080/"
    },
    "executionInfo": {
     "elapsed": 6492,
     "status": "ok",
     "timestamp": 1759165030510,
     "user": {
      "displayName": "Suganya G",
      "userId": "14776330239557954849"
     },
     "user_tz": 240
    },
    "id": "m0uciJsK7nxz",
    "outputId": "1a1ed518-bfdc-471e-be60-bbfb2ba3e1a2"
   },
   "outputs": [
    {
     "name": "stdout",
     "output_type": "stream",
     "text": [
      "Detected labels: ['B-ADE', 'B-DRUG', 'I-ADE', 'I-DRUG', 'O']\n",
      "Silver examples: 18422\n",
      "Train: 15658\n",
      "Val:   1382\n",
      "Test:  1382\n"
     ]
    }
   ],
   "source": [
    "# -------------------------------\n",
    "# STEP 1: Detect labels from files\n",
    "# -------------------------------\n",
    "def collect_labels(files):\n",
    "    labels = set()\n",
    "    for file in files:\n",
    "        with open(file, \"r\", encoding=\"utf-8\") as f:\n",
    "            for line in f:\n",
    "                line = line.strip()\n",
    "                if not line:\n",
    "                    continue\n",
    "                parts = line.split()\n",
    "                labels.add(parts[-1])  # last col = label\n",
    "    return sorted(list(labels))\n",
    "\n",
    "label_list = collect_labels([\"/content/sample_data/project1.conll\"])#, \"/content/sample_data/gold.conll\"])\n",
    "label2id = {label: i for i, label in enumerate(label_list)}\n",
    "id2label = {i: label for i, label in enumerate(label_list)}\n",
    "print(\"Detected labels:\", label_list)\n",
    "\n",
    "# -------------------------------\n",
    "# STEP 2: Reader for your format\n",
    "# -------------------------------\n",
    "def read_conll(filepath):\n",
    "    examples = []\n",
    "    tokens, tags = [], []\n",
    "\n",
    "    with open(filepath, \"r\", encoding=\"utf-8\") as f:\n",
    "        for line in f:\n",
    "            line = line.strip()\n",
    "            if not line:\n",
    "                if tokens:\n",
    "                    examples.append({\"tokens\": tokens, \"ner_tags\": [label2id[tag] for tag in tags]})\n",
    "                    tokens, tags = [], []\n",
    "                continue\n",
    "\n",
    "            parts = line.split()\n",
    "            token, tag = parts[0], parts[-1]   # first col = token, last col = label\n",
    "            tokens.append(token)\n",
    "            tags.append(tag)\n",
    "\n",
    "        if tokens:  # last sentence\n",
    "            examples.append({\"tokens\": tokens, \"ner_tags\": [label2id[tag] for tag in tags]})\n",
    "\n",
    "    return examples\n",
    "\n",
    "# -------------------------------\n",
    "# STEP 3: Build dataset\n",
    "# -------------------------------\n",
    "silver_data = read_conll(\"/content/sample_data/project1.conll\")   # weak silver labels\n",
    "#gold_data   = read_conll(\"/content/sample_data/gold.conll\")     # gold labels\n",
    "\n",
    "#print(\"Gold examples:\", len(gold_data))\n",
    "print(\"Silver examples:\", len(silver_data))\n",
    "\n",
    "random.shuffle(silver_data)\n",
    "#random.shuffle(gold_data)\n",
    "\n",
    "# assume you already have silver_data = list of samples (~9000+)\n",
    "\n",
    "# First split: train vs temp (val+test)\n",
    "train_data, temp_data = train_test_split(\n",
    "    silver_data,\n",
    "    test_size=0.15,   # 15% goes to val+test\n",
    "    random_state=42,  # reproducibility\n",
    "    shuffle=True\n",
    ")\n",
    "\n",
    "# Second split: val vs test\n",
    "val_data, test_data = train_test_split(\n",
    "    temp_data,\n",
    "    test_size=0.5,    # half of 15% → 7.5% test, 7.5% val\n",
    "    random_state=42,\n",
    "    shuffle=True\n",
    ")\n",
    "\n",
    "print(f\"Train: {len(train_data)}\")\n",
    "print(f\"Val:   {len(val_data)}\")\n",
    "print(f\"Test:  {len(test_data)}\")\n",
    "\n",
    "\n",
    "#train_data = silver_data + gold_data[:350]  # mix weak + gold\n",
    "#val_data   = gold_data[350:425]  # ~75 examples\n",
    "#test_data  = gold_data[425:]     # ~75 examples\n",
    "\n",
    "dataset = DatasetDict({\n",
    "   \"train\": Dataset.from_list(train_data),\n",
    "   \"validation\": Dataset.from_list(val_data),\n",
    "    \"test\": Dataset.from_list(test_data),\n",
    "})\n",
    "\n",
    "#print(dataset)\n",
    "\n"
   ]
  },
  {
   "cell_type": "code",
   "execution_count": 3,
   "metadata": {
    "executionInfo": {
     "elapsed": 13,
     "status": "ok",
     "timestamp": 1759165032446,
     "user": {
      "displayName": "Suganya G",
      "userId": "14776330239557954849"
     },
     "user_tz": 240
    },
    "id": "coipJ3HX1vDK"
   },
   "outputs": [],
   "source": [
    "from collections import Counter\n",
    "\n",
    "def print_label_counts(dataset, split_name, key=\"ner_tags\"):\n",
    "    \"\"\"\n",
    "    Print label counts for a dataset split.\n",
    "    - dataset: HuggingFace Dataset\n",
    "    - split_name: \"train\", \"validation\", or \"test\"\n",
    "    - key: column containing labels (\"ner_tags\" before tokenization, \"labels\" after)\n",
    "    \"\"\"\n",
    "    counts = Counter()\n",
    "    for labels in dataset[split_name][key]:\n",
    "        counts.update(labels)\n",
    "\n",
    "    # remove padding ignore index (-100) if present\n",
    "    if -100 in counts:\n",
    "        del counts[-100]\n",
    "\n",
    "    print(f\"\\n🔹 {split_name} counts (from '{key}'):\")\n",
    "    for label_id, cnt in sorted(counts.items()):\n",
    "        print(f\"  {label_id:>2} : {cnt}\")\n"
   ]
  },
  {
   "cell_type": "code",
   "execution_count": 4,
   "metadata": {
    "executionInfo": {
     "elapsed": 598,
     "status": "ok",
     "timestamp": 1759165035120,
     "user": {
      "displayName": "Suganya G",
      "userId": "14776330239557954849"
     },
     "user_tz": 240
    },
    "id": "yXFD9sOxml8e"
   },
   "outputs": [],
   "source": [
    "from datasets import Dataset, DatasetDict\n",
    "from collections import Counter\n",
    "import torch\n",
    "import torch.nn as nn\n",
    "from transformers import (\n",
    "    AutoTokenizer,\n",
    "    AutoModelForTokenClassification,\n",
    "    TrainingArguments,\n",
    "    Trainer\n",
    ")\n",
    "import evaluate\n",
    "import numpy as np"
   ]
  },
  {
   "cell_type": "code",
   "execution_count": 5,
   "metadata": {
    "executionInfo": {
     "elapsed": 1510,
     "status": "ok",
     "timestamp": 1759165038782,
     "user": {
      "displayName": "Suganya G",
      "userId": "14776330239557954849"
     },
     "user_tz": 240
    },
    "id": "4io2J-ELmqAN"
   },
   "outputs": [],
   "source": [
    "# -----------------------------\n",
    "# 3️⃣ Load your dataset\n",
    "# -----------------------------\n",
    "dataset = DatasetDict({\n",
    "    \"train\": Dataset.from_list(train_data),\n",
    "    \"validation\": Dataset.from_list(val_data),\n",
    "    \"test\": Dataset.from_list(test_data),\n",
    "})\n",
    "\n",
    "label_column = \"ner_tags\"\n",
    "\n",
    "# Original 5-label scheme\n",
    "#orig_label_list = [\"O\", \"B-ADE\", \"I-ADE\", \"B-DRUG\", \"I-DRUG\"]"
   ]
  },
  {
   "cell_type": "code",
   "execution_count": 6,
   "metadata": {
    "colab": {
     "base_uri": "https://localhost:8080/"
    },
    "executionInfo": {
     "elapsed": 4913,
     "status": "ok",
     "timestamp": 1759165045652,
     "user": {
      "displayName": "Suganya G",
      "userId": "14776330239557954849"
     },
     "user_tz": 240
    },
    "id": "rqFfUzwj1zoG",
    "outputId": "6112ad28-8e52-4291-e828-46cad09c81b2"
   },
   "outputs": [
    {
     "name": "stdout",
     "output_type": "stream",
     "text": [
      "\n",
      "🔹 train counts (from 'ner_tags'):\n",
      "   0 : 66784\n",
      "   1 : 13582\n",
      "   2 : 13503\n",
      "   3 : 194\n",
      "   4 : 1870857\n",
      "\n",
      "🔹 validation counts (from 'ner_tags'):\n",
      "   0 : 5268\n",
      "   1 : 1188\n",
      "   2 : 1295\n",
      "   3 : 32\n",
      "   4 : 157452\n",
      "\n",
      "🔹 test counts (from 'ner_tags'):\n",
      "   0 : 5467\n",
      "   1 : 1369\n",
      "   2 : 1231\n",
      "   3 : 15\n",
      "   4 : 170049\n"
     ]
    }
   ],
   "source": [
    "for split in [\"train\", \"validation\", \"test\"]:\n",
    "    print_label_counts(dataset, split, key=\"ner_tags\")\n"
   ]
  },
  {
   "cell_type": "code",
   "execution_count": 7,
   "metadata": {
    "colab": {
     "base_uri": "https://localhost:8080/"
    },
    "executionInfo": {
     "elapsed": 4037,
     "status": "ok",
     "timestamp": 1759165054404,
     "user": {
      "displayName": "Suganya G",
      "userId": "14776330239557954849"
     },
     "user_tz": 240
    },
    "id": "6KxBsmAnV5OP",
    "outputId": "44d4484a-8780-487a-b986-b9ff3af462f6"
   },
   "outputs": [
    {
     "name": "stdout",
     "output_type": "stream",
     "text": [
      "Class weights: tensor([5.8844e+00, 2.8934e+01, 2.9103e+01, 2.0257e+03, 2.1006e-01])\n"
     ]
    }
   ],
   "source": [
    "import torch\n",
    "from transformers import BertTokenizerFast, BertForTokenClassification, Trainer, TrainingArguments\n",
    "from collections import Counter\n",
    "\n",
    "# ------------------------\n",
    "# 1. Define labels\n",
    "# ------------------------\n",
    "label_list = [\"B-ADE\",\"B-DRUG\",\"I-ADE\",\"I-DRUG\",\"O\"]\n",
    "num_labels = len(label_list)\n",
    "label2id = {l: i for i, l in enumerate(label_list)}\n",
    "id2label = {i: l for i, l in enumerate(label_list)}\n",
    "\n",
    "# ------------------------\n",
    "# 2. Compute class weights from dataset\n",
    "# ------------------------\n",
    "def compute_class_weights(dataset, label_column=\"ner_tags\"):\n",
    "    counts = Counter()\n",
    "    for split in [\"train\"]:\n",
    "        for seq in dataset[split][label_column]:\n",
    "            counts.update(seq)\n",
    "    total = sum(counts.values())\n",
    "    weights = []\n",
    "    for i in range(num_labels):\n",
    "        # weight = total / (num_labels * class_count)\n",
    "        weights.append(total / (num_labels * counts[i]) if counts[i] > 0 else 1.0)\n",
    "    return torch.tensor(weights, dtype=torch.float)\n",
    "\n",
    "class_weights = compute_class_weights(dataset)\n",
    "print(\"Class weights:\", class_weights)"
   ]
  },
  {
   "cell_type": "code",
   "execution_count": 8,
   "metadata": {
    "colab": {
     "base_uri": "https://localhost:8080/"
    },
    "executionInfo": {
     "elapsed": 10,
     "status": "ok",
     "timestamp": 1759165059406,
     "user": {
      "displayName": "Suganya G",
      "userId": "14776330239557954849"
     },
     "user_tz": 240
    },
    "id": "6KlUlWI_Wb6s",
    "outputId": "09be9d0f-3efa-4cda-f6ae-cad502d87422"
   },
   "outputs": [
    {
     "name": "stdout",
     "output_type": "stream",
     "text": [
      "weights tensor([3.1695e-03, 1.5572e-02, 1.5486e-02, 1.0000e+00, 1.1298e-04])\n"
     ]
    }
   ],
   "source": [
    "weights = torch.tensor([5.8931, 28.953, 28.793, 1859.3, 0.21006])\n",
    "weights = weights / weights.max()  # normalize so max = 1\n",
    "print(\"weights\",weights)"
   ]
  },
  {
   "cell_type": "code",
   "execution_count": 9,
   "metadata": {
    "colab": {
     "base_uri": "https://localhost:8080/"
    },
    "executionInfo": {
     "elapsed": 7,
     "status": "ok",
     "timestamp": 1759165065938,
     "user": {
      "displayName": "Suganya G",
      "userId": "14776330239557954849"
     },
     "user_tz": 240
    },
    "id": "ihoXTfiNW3ZL",
    "outputId": "e818cc8e-b816-47ca-9b47-93ab521b3289"
   },
   "outputs": [
    {
     "name": "stdout",
     "output_type": "stream",
     "text": [
      "I-DRUG / O weight ratio: tensor(8851.2812)\n"
     ]
    }
   ],
   "source": [
    "print(\"I-DRUG / O weight ratio:\", weights[3]/weights[4])\n"
   ]
  },
  {
   "cell_type": "code",
   "execution_count": 25,
   "metadata": {
    "colab": {
     "base_uri": "https://localhost:8080/"
    },
    "executionInfo": {
     "elapsed": 2062,
     "status": "ok",
     "timestamp": 1759165393295,
     "user": {
      "displayName": "Suganya G",
      "userId": "14776330239557954849"
     },
     "user_tz": 240
    },
    "id": "yO7i1B7RbZOe",
    "outputId": "874b868b-06e3-4e48-899d-80ee0dc0b547"
   },
   "outputs": [
    {
     "name": "stderr",
     "output_type": "stream",
     "text": [
      "Some weights of BertForTokenClassification were not initialized from the model checkpoint at dmis-lab/biobert-base-cased-v1.1 and are newly initialized: ['classifier.bias', 'classifier.weight']\n",
      "You should probably TRAIN this model on a down-stream task to be able to use it for predictions and inference.\n"
     ]
    }
   ],
   "source": [
    "model_name = \"dmis-lab/biobert-base-cased-v1.1\"\n",
    "\n",
    "tokenizer = AutoTokenizer.from_pretrained(model_name)\n",
    "num_labels = len(label_list)  # e.g., 5 labels\n",
    "model = AutoModelForTokenClassification.from_pretrained(\n",
    "    model_name,\n",
    "    num_labels=num_labels,\n",
    "    id2label=id2label,\n",
    "    label2id=label2id,\n",
    "    return_dict=True  # ensures outputs.logits exists\n",
    ")\n"
   ]
  },
  {
   "cell_type": "code",
   "execution_count": 26,
   "metadata": {
    "executionInfo": {
     "elapsed": 8,
     "status": "ok",
     "timestamp": 1759165405594,
     "user": {
      "displayName": "Suganya G",
      "userId": "14776330239557954849"
     },
     "user_tz": 240
    },
    "id": "-iJJm9oCbbUK"
   },
   "outputs": [],
   "source": [
    "# Freeze all parameters\n",
    "for param in model.bert.parameters():\n",
    "    param.requires_grad = False\n",
    "\n",
    "# Unfreeze the last 4 encoder layers\n",
    "for layer in model.bert.encoder.layer[-4:]:\n",
    "    for param in layer.parameters():\n",
    "        param.requires_grad = True\n",
    "\n",
    "# Classifier head is always trainable\n",
    "for param in model.classifier.parameters():\n",
    "    param.requires_grad = True"
   ]
  },
  {
   "cell_type": "code",
   "execution_count": 41,
   "metadata": {
    "colab": {
     "base_uri": "https://localhost:8080/",
     "height": 113,
     "referenced_widgets": [
      "37aeab3d9cf7420ab89cc6288845c548",
      "7c2a0f1d0e794027bc8bbc7cab0209e5",
      "38de5003f55d4599bd8127d3c3e3b5ac",
      "8cec0577d71446e888c054e2ff462fc7",
      "a6f9488d33224ac88121db2233c4a01f",
      "1ba82e63e9024417a46045eb288d72c7",
      "a197d80cee8541feb58681159f932a6e",
      "9c135ca7f3c84d29a23604a02c1c0365",
      "1887e1e3e3984a0c8989b57d8a4246f9",
      "f44fd645d2ee47ddba9441244c541ae5",
      "41f85153f61c4dd5ab92641a5ded87ca",
      "e9a7938c5ab847ea8d6424e8286bfcf1",
      "b7fe7516f09240209af5f35d1a8294d2",
      "e18ff5512d664709ae704b6bfa14f5ea",
      "8f8bdb9bea8549edbba4d55dcb567d5b",
      "c7815389f227405eb833742ac0c40517",
      "9d38ec5586604004949c82599f93360f",
      "f673424a43d94595845a39b9c7c12b64",
      "8e12c8d76da944ce908f4dc55d699bc2",
      "7424c4376f1b41a98a92b2f57918af1b",
      "0f5c0451e62e453b84caf9564b640454",
      "3752f310f3ab4f44ae86eb6c2284c46a",
      "e9604a36bf8144bfb9815d59155746dd",
      "32f2c6e05a734a38a166a1c77ad0bec5",
      "cfb4a5e0653c446983bfac8e2d4ec4d8",
      "c0a7d7a622fc4149b026ddb64ba4cd70",
      "ffb228a571454d2d9829aaf93e4842be",
      "dd0c6f087c984af9b4664312e000598c",
      "25a3689e9353475d8051289ae41702fa",
      "388076ba1faa4748a1ac91e88afd1d9b",
      "8ac597f4a98a4c459c53f1f4c28fe55b",
      "44c6267cde8349aeab021a930c980702",
      "1357b6732fac42bca5951bba328d7c20"
     ]
    },
    "executionInfo": {
     "elapsed": 23891,
     "status": "ok",
     "timestamp": 1759165810980,
     "user": {
      "displayName": "Suganya G",
      "userId": "14776330239557954849"
     },
     "user_tz": 240
    },
    "id": "B0U37qKQbgHS",
    "outputId": "145bed4c-0f63-47ae-bcbd-15c24d159b97"
   },
   "outputs": [
    {
     "data": {
      "application/vnd.jupyter.widget-view+json": {
       "model_id": "37aeab3d9cf7420ab89cc6288845c548",
       "version_major": 2,
       "version_minor": 0
      },
      "text/plain": [
       "Map:   0%|          | 0/15658 [00:00<?, ? examples/s]"
      ]
     },
     "metadata": {},
     "output_type": "display_data"
    },
    {
     "data": {
      "application/vnd.jupyter.widget-view+json": {
       "model_id": "e9a7938c5ab847ea8d6424e8286bfcf1",
       "version_major": 2,
       "version_minor": 0
      },
      "text/plain": [
       "Map:   0%|          | 0/1382 [00:00<?, ? examples/s]"
      ]
     },
     "metadata": {},
     "output_type": "display_data"
    },
    {
     "data": {
      "application/vnd.jupyter.widget-view+json": {
       "model_id": "e9604a36bf8144bfb9815d59155746dd",
       "version_major": 2,
       "version_minor": 0
      },
      "text/plain": [
       "Map:   0%|          | 0/1382 [00:00<?, ? examples/s]"
      ]
     },
     "metadata": {},
     "output_type": "display_data"
    }
   ],
   "source": [
    "def tokenize_and_align_labels(examples):\n",
    "    tokenized_inputs = tokenizer(\n",
    "        examples[\"tokens\"],\n",
    "        truncation=True,\n",
    "        max_length=512,\n",
    "        is_split_into_words=True\n",
    "    )\n",
    "\n",
    "    labels = []\n",
    "    for i, label in enumerate(examples[\"ner_tags\"]):\n",
    "        word_ids = tokenized_inputs.word_ids(batch_index=i)\n",
    "        previous_word_idx = None\n",
    "        label_ids = []\n",
    "        for word_idx in word_ids:\n",
    "            if word_idx is None:\n",
    "                label_ids.append(-100)\n",
    "            elif word_idx != previous_word_idx:\n",
    "                label_ids.append(label[word_idx])\n",
    "            else:\n",
    "                # for subword tokens: keep same label if not O, else O\n",
    "                label_ids.append(label[word_idx] if label[word_idx] != label2id[\"O\"] else label2id[\"O\"])\n",
    "            previous_word_idx = word_idx\n",
    "        labels.append(label_ids)\n",
    "\n",
    "    tokenized_inputs[\"labels\"] = labels\n",
    "    return tokenized_inputs\n",
    "\n",
    "tokenized_datasets = dataset.map(tokenize_and_align_labels, batched=True)\n"
   ]
  },
  {
   "cell_type": "code",
   "execution_count": 42,
   "metadata": {
    "executionInfo": {
     "elapsed": 33,
     "status": "ok",
     "timestamp": 1759165827540,
     "user": {
      "displayName": "Suganya G",
      "userId": "14776330239557954849"
     },
     "user_tz": 240
    },
    "id": "7IWk-dXLbmFL"
   },
   "outputs": [],
   "source": [
    "# Normalized weights tensor\n",
    "weights = torch.tensor([3.1695e-03, 1.5572e-02, 1.5486e-02, 1.0000e+00, 1.1298e-04]).to(\"cuda\")\n",
    "\n",
    "# Overwrite model's forward via Trainer\n",
    "def compute_loss(model, inputs, return_outputs=False):\n",
    "    labels = inputs.pop(\"labels\")\n",
    "    outputs = model(**inputs)\n",
    "    logits = outputs.logits\n",
    "    loss_fct = nn.CrossEntropyLoss(weight=weights, ignore_index=-100)\n",
    "    loss = loss_fct(logits.view(-1, logits.shape[-1]), labels.view(-1))\n",
    "    return (loss, outputs) if return_outputs else loss\n"
   ]
  },
  {
   "cell_type": "code",
   "execution_count": 43,
   "metadata": {
    "executionInfo": {
     "elapsed": 4,
     "status": "ok",
     "timestamp": 1759165829251,
     "user": {
      "displayName": "Suganya G",
      "userId": "14776330239557954849"
     },
     "user_tz": 240
    },
    "id": "qThCYyj-brnN"
   },
   "outputs": [],
   "source": [
    "data_collator = DataCollatorForTokenClassification(tokenizer)\n"
   ]
  },
  {
   "cell_type": "code",
   "execution_count": 44,
   "metadata": {
    "executionInfo": {
     "elapsed": 6,
     "status": "ok",
     "timestamp": 1759165830505,
     "user": {
      "displayName": "Suganya G",
      "userId": "14776330239557954849"
     },
     "user_tz": 240
    },
    "id": "FPYe6O28bs5D"
   },
   "outputs": [],
   "source": [
    "def compute_metrics(p):\n",
    "    predictions, labels = p\n",
    "    predictions = np.argmax(predictions, axis=2)\n",
    "\n",
    "    true_labels = [[id2label[l] for l in label if l != -100] for label in labels]\n",
    "    true_preds = [\n",
    "        [id2label[p] for (p, l) in zip(prediction, label) if l != -100]\n",
    "        for prediction, label in zip(predictions, labels)\n",
    "    ]\n",
    "\n",
    "    report = classification_report(true_labels, true_preds, output_dict=True)\n",
    "    return {\n",
    "        \"precision\": report[\"micro avg\"][\"precision\"],\n",
    "        \"recall\": report[\"micro avg\"][\"recall\"],\n",
    "        \"f1\": report[\"micro avg\"][\"f1-score\"]\n",
    "    }\n"
   ]
  },
  {
   "cell_type": "code",
   "execution_count": 45,
   "metadata": {
    "executionInfo": {
     "elapsed": 29,
     "status": "ok",
     "timestamp": 1759165834065,
     "user": {
      "displayName": "Suganya G",
      "userId": "14776330239557954849"
     },
     "user_tz": 240
    },
    "id": "CXdQWWy3bvcj"
   },
   "outputs": [],
   "source": [
    "training_args = TrainingArguments(\n",
    "    output_dir=\"./ner_biobert\",\n",
    "    eval_strategy=\"steps\",\n",
    "    eval_steps=500,\n",
    "    save_steps=1000,\n",
    "    logging_steps=100,\n",
    "    per_device_train_batch_size=16,\n",
    "    per_device_eval_batch_size=16,\n",
    "    num_train_epochs=5,\n",
    "    learning_rate=5e-5,\n",
    "    weight_decay=0.01,\n",
    "    save_total_limit=2,\n",
    "    logging_dir=\"./logs\",\n",
    "    load_best_model_at_end=True,\n",
    "    metric_for_best_model=\"f1\",\n",
    "    greater_is_better=True,\n",
    "    report_to=[],\n",
    "    push_to_hub=False\n",
    ")\n"
   ]
  },
  {
   "cell_type": "code",
   "execution_count": 46,
   "metadata": {
    "executionInfo": {
     "elapsed": 5,
     "status": "ok",
     "timestamp": 1759165837589,
     "user": {
      "displayName": "Suganya G",
      "userId": "14776330239557954849"
     },
     "user_tz": 240
    },
    "id": "TEoHbqCTcI25"
   },
   "outputs": [],
   "source": [
    "from transformers import Trainer\n",
    "\n",
    "class WeightedTrainer(Trainer):\n",
    "    def __init__(self, weights, *args, **kwargs):\n",
    "        super().__init__(*args, **kwargs)\n",
    "        self.weights = weights.to(self.model.device)\n",
    "\n",
    "    def compute_loss(self, model, inputs, return_outputs=False, **kwargs):\n",
    "        labels = inputs.pop(\"labels\")\n",
    "        outputs = model(**inputs)\n",
    "        logits = outputs.logits\n",
    "        loss_fct = nn.CrossEntropyLoss(weight=self.weights, ignore_index=-100)\n",
    "        loss = loss_fct(logits.view(-1, logits.shape[-1]), labels.view(-1))\n",
    "        return (loss, outputs) if return_outputs else loss\n",
    "\n"
   ]
  },
  {
   "cell_type": "code",
   "execution_count": 47,
   "metadata": {
    "colab": {
     "base_uri": "https://localhost:8080/"
    },
    "executionInfo": {
     "elapsed": 11,
     "status": "ok",
     "timestamp": 1759165840256,
     "user": {
      "displayName": "Suganya G",
      "userId": "14776330239557954849"
     },
     "user_tz": 240
    },
    "id": "2sWuGN3McNIp",
    "outputId": "82da1ecf-866b-4b01-8907-e54f07ee0433"
   },
   "outputs": [
    {
     "name": "stderr",
     "output_type": "stream",
     "text": [
      "/tmp/ipython-input-1199848177.py:5: FutureWarning: `tokenizer` is deprecated and will be removed in version 5.0.0 for `WeightedTrainer.__init__`. Use `processing_class` instead.\n",
      "  super().__init__(*args, **kwargs)\n"
     ]
    }
   ],
   "source": [
    "trainer = WeightedTrainer(\n",
    "    weights=weights,\n",
    "    model=model,\n",
    "    args=training_args,\n",
    "    train_dataset=tokenized_datasets[\"train\"],\n",
    "    eval_dataset=tokenized_datasets[\"validation\"],\n",
    "    tokenizer=tokenizer,\n",
    "    data_collator=data_collator,\n",
    "    compute_metrics=compute_metrics,\n",
    ")\n"
   ]
  },
  {
   "cell_type": "code",
   "execution_count": 48,
   "metadata": {
    "colab": {
     "base_uri": "https://localhost:8080/",
     "height": 415
    },
    "executionInfo": {
     "elapsed": 4336962,
     "status": "ok",
     "timestamp": 1759170180254,
     "user": {
      "displayName": "Suganya G",
      "userId": "14776330239557954849"
     },
     "user_tz": 240
    },
    "id": "pGRbgj2hcVAj",
    "outputId": "bac7559f-e7ea-4624-c5fb-11bfdeabb3b2"
   },
   "outputs": [
    {
     "data": {
      "text/html": [
       "\n",
       "    <div>\n",
       "      \n",
       "      <progress value='4895' max='4895' style='width:300px; height:20px; vertical-align: middle;'></progress>\n",
       "      [4895/4895 1:11:33, Epoch 5/5]\n",
       "    </div>\n",
       "    <table border=\"1\" class=\"dataframe\">\n",
       "  <thead>\n",
       " <tr style=\"text-align: left;\">\n",
       "      <th>Step</th>\n",
       "      <th>Training Loss</th>\n",
       "      <th>Validation Loss</th>\n",
       "      <th>Precision</th>\n",
       "      <th>Recall</th>\n",
       "      <th>F1</th>\n",
       "    </tr>\n",
       "  </thead>\n",
       "  <tbody>\n",
       "    <tr>\n",
       "      <td>500</td>\n",
       "      <td>0.048100</td>\n",
       "      <td>0.037887</td>\n",
       "      <td>0.631773</td>\n",
       "      <td>0.986990</td>\n",
       "      <td>0.770407</td>\n",
       "    </tr>\n",
       "    <tr>\n",
       "      <td>1000</td>\n",
       "      <td>0.034200</td>\n",
       "      <td>0.019041</td>\n",
       "      <td>0.806837</td>\n",
       "      <td>0.989992</td>\n",
       "      <td>0.889080</td>\n",
       "    </tr>\n",
       "    <tr>\n",
       "      <td>1500</td>\n",
       "      <td>0.023900</td>\n",
       "      <td>0.018448</td>\n",
       "      <td>0.844559</td>\n",
       "      <td>0.995497</td>\n",
       "      <td>0.913837</td>\n",
       "    </tr>\n",
       "    <tr>\n",
       "      <td>2000</td>\n",
       "      <td>0.019200</td>\n",
       "      <td>0.010382</td>\n",
       "      <td>0.898660</td>\n",
       "      <td>0.995413</td>\n",
       "      <td>0.944565</td>\n",
       "    </tr>\n",
       "    <tr>\n",
       "      <td>2500</td>\n",
       "      <td>0.018300</td>\n",
       "      <td>0.010583</td>\n",
       "      <td>0.869321</td>\n",
       "      <td>0.995830</td>\n",
       "      <td>0.928285</td>\n",
       "    </tr>\n",
       "    <tr>\n",
       "      <td>3000</td>\n",
       "      <td>0.006300</td>\n",
       "      <td>0.009137</td>\n",
       "      <td>0.928344</td>\n",
       "      <td>0.995080</td>\n",
       "      <td>0.960554</td>\n",
       "    </tr>\n",
       "    <tr>\n",
       "      <td>3500</td>\n",
       "      <td>0.005400</td>\n",
       "      <td>0.007528</td>\n",
       "      <td>0.907579</td>\n",
       "      <td>0.996664</td>\n",
       "      <td>0.950038</td>\n",
       "    </tr>\n",
       "    <tr>\n",
       "      <td>4000</td>\n",
       "      <td>0.004400</td>\n",
       "      <td>0.007081</td>\n",
       "      <td>0.947874</td>\n",
       "      <td>0.996331</td>\n",
       "      <td>0.971498</td>\n",
       "    </tr>\n",
       "    <tr>\n",
       "      <td>4500</td>\n",
       "      <td>0.004400</td>\n",
       "      <td>0.006608</td>\n",
       "      <td>0.941464</td>\n",
       "      <td>0.996581</td>\n",
       "      <td>0.968239</td>\n",
       "    </tr>\n",
       "  </tbody>\n",
       "</table><p>"
      ],
      "text/plain": [
       "<IPython.core.display.HTML object>"
      ]
     },
     "metadata": {},
     "output_type": "display_data"
    },
    {
     "data": {
      "text/html": [
       "\n",
       "    <div>\n",
       "      \n",
       "      <progress value='87' max='87' style='width:300px; height:20px; vertical-align: middle;'></progress>\n",
       "      [87/87 00:40]\n",
       "    </div>\n",
       "    "
      ],
      "text/plain": [
       "<IPython.core.display.HTML object>"
      ]
     },
     "metadata": {},
     "output_type": "display_data"
    },
    {
     "name": "stdout",
     "output_type": "stream",
     "text": [
      "{'eval_loss': 0.01370982639491558, 'eval_precision': 0.9494776119402986, 'eval_recall': 0.9935962514642718, 'eval_f1': 0.9710360618202634, 'eval_runtime': 42.9443, 'eval_samples_per_second': 32.181, 'eval_steps_per_second': 2.026, 'epoch': 5.0}\n"
     ]
    }
   ],
   "source": [
    "trainer.train()\n",
    "\n",
    "metrics = trainer.evaluate(tokenized_datasets[\"test\"])\n",
    "print(metrics)\n"
   ]
  },
  {
   "cell_type": "code",
   "execution_count": 51,
   "metadata": {
    "colab": {
     "base_uri": "https://localhost:8080/",
     "height": 176
    },
    "executionInfo": {
     "elapsed": 42628,
     "status": "ok",
     "timestamp": 1759170306064,
     "user": {
      "displayName": "Suganya G",
      "userId": "14776330239557954849"
     },
     "user_tz": 240
    },
    "id": "FrIPiE8kt_AB",
    "outputId": "1b78ef2a-046e-4c09-e7b1-d405bf6a3e13"
   },
   "outputs": [
    {
     "data": {
      "text/html": [
       "\n",
       "    <div>\n",
       "      \n",
       "      <progress value='174' max='87' style='width:300px; height:20px; vertical-align: middle;'></progress>\n",
       "      [87/87 02:46]\n",
       "    </div>\n",
       "    "
      ],
      "text/plain": [
       "<IPython.core.display.HTML object>"
      ]
     },
     "metadata": {},
     "output_type": "display_data"
    },
    {
     "data": {
      "text/plain": [
       "{'eval_loss': 0.01370982639491558,\n",
       " 'eval_precision': 0.9494776119402986,\n",
       " 'eval_recall': 0.9935962514642718,\n",
       " 'eval_f1': 0.9710360618202634,\n",
       " 'eval_runtime': 42.6173,\n",
       " 'eval_samples_per_second': 32.428,\n",
       " 'eval_steps_per_second': 2.041,\n",
       " 'epoch': 5.0}"
      ]
     },
     "execution_count": 51,
     "metadata": {},
     "output_type": "execute_result"
    }
   ],
   "source": [
    "trainer.evaluate(tokenized_datasets[\"test\"])\n"
   ]
  },
  {
   "cell_type": "code",
   "execution_count": 53,
   "metadata": {
    "colab": {
     "base_uri": "https://localhost:8080/"
    },
    "executionInfo": {
     "elapsed": 40068,
     "status": "ok",
     "timestamp": 1759170418578,
     "user": {
      "displayName": "Suganya G",
      "userId": "14776330239557954849"
     },
     "user_tz": 240
    },
    "id": "jK_6-rNtyTK9",
    "outputId": "8d891a0d-e2c6-42db-e09c-b61af26d10be"
   },
   "outputs": [
    {
     "name": "stdout",
     "output_type": "stream",
     "text": [
      "✅ Model and tokenizer saved to 'biobert-ner-final'\n"
     ]
    }
   ],
   "source": [
    "save_path = \"biobert-ner-final\"\n",
    "\n",
    "# Save model\n",
    "model.save_pretrained(save_path)\n",
    "\n",
    "# Save tokenizer\n",
    "tokenizer.save_pretrained(save_path)\n",
    "\n",
    "print(f\"✅ Model and tokenizer saved to '{save_path}'\")\n"
   ]
  },
  {
   "cell_type": "code",
   "execution_count": 54,
   "metadata": {
    "colab": {
     "base_uri": "https://localhost:8080/",
     "height": 173
    },
    "executionInfo": {
     "elapsed": 44346,
     "status": "ok",
     "timestamp": 1759170474020,
     "user": {
      "displayName": "Suganya G",
      "userId": "14776330239557954849"
     },
     "user_tz": 240
    },
    "id": "2zRYasGNunVA",
    "outputId": "99b01df5-83a9-4583-e9fc-1881c80839f7"
   },
   "outputs": [
    {
     "data": {
      "text/html": [],
      "text/plain": [
       "<IPython.core.display.HTML object>"
      ]
     },
     "metadata": {},
     "output_type": "display_data"
    },
    {
     "name": "stdout",
     "output_type": "stream",
     "text": [
      "              precision    recall  f1-score   support\n",
      "\n",
      "         ADE      0.961     0.997     0.978     10400\n",
      "        DRUG      0.872     0.995     0.929      1591\n",
      "\n",
      "   micro avg      0.948     0.996     0.971     11991\n",
      "   macro avg      0.916     0.996     0.954     11991\n",
      "weighted avg      0.949     0.996     0.972     11991\n",
      "\n"
     ]
    }
   ],
   "source": [
    "from seqeval.metrics import classification_report\n",
    "\n",
    "preds_output = trainer.predict(tokenized_datasets[\"validation\"])\n",
    "preds = np.argmax(preds_output.predictions, axis=2)\n",
    "\n",
    "true_labels = [[id2label[l] for l in label if l != -100] for label in preds_output.label_ids]\n",
    "true_preds = [\n",
    "    [id2label[p] for (p, l) in zip(pred, label) if l != -100]\n",
    "    for pred, label in zip(preds, preds_output.label_ids)\n",
    "]\n",
    "\n",
    "print(classification_report(true_labels, true_preds, digits=3))\n"
   ]
  },
  {
   "cell_type": "code",
   "execution_count": 88,
   "metadata": {
    "colab": {
     "base_uri": "https://localhost:8080/"
    },
    "executionInfo": {
     "elapsed": 325,
     "status": "ok",
     "timestamp": 1759172457711,
     "user": {
      "displayName": "Suganya G",
      "userId": "14776330239557954849"
     },
     "user_tz": 240
    },
    "id": "ZKFLLrL_yd3R",
    "outputId": "7ff45737-b1fe-469b-9a43-29671c37d4e1"
   },
   "outputs": [
    {
     "name": "stdout",
     "output_type": "stream",
     "text": [
      "🔹 Token-level predictions:\n",
      "[('moderna', 'B-DRUG'), ('shot', 'O'), ('was', 'O'), ('administered', 'O'), ('and', 'O'), ('got', 'O'), ('fever', 'B-ADE'), (',', 'O'), ('headache', 'B-ADE')]\n",
      "\n",
      "🔹 Entity-level predictions:\n",
      "DRUG: moderna\n",
      "ADE: fever, headache\n"
     ]
    }
   ],
   "source": [
    "from transformers import AutoTokenizer, AutoModelForTokenClassification\n",
    "import torch\n",
    "import re\n",
    "\n",
    "# -----------------------------\n",
    "# 1️⃣ Load model & tokenizer\n",
    "# -----------------------------\n",
    "model_path = \"biobert-ner-final\"\n",
    "tokenizer = AutoTokenizer.from_pretrained(model_path)\n",
    "model = AutoModelForTokenClassification.from_pretrained(model_path)\n",
    "model.eval()\n",
    "device = \"cuda\" if torch.cuda.is_available() else \"cpu\"\n",
    "model.to(device)\n",
    "\n",
    "# -----------------------------\n",
    "# 2️⃣ Input sentence\n",
    "# -----------------------------\n",
    "sentence = \"moderna shot was administered and got fever, headache\"\n",
    "\n",
    "# Split into words/punctuation\n",
    "tokens = re.findall(r\"\\w+|[^\\w\\s]\", sentence)\n",
    "\n",
    "# -----------------------------\n",
    "# 3️⃣ Tokenize\n",
    "# -----------------------------\n",
    "encoded = tokenizer(\n",
    "    tokens,\n",
    "    is_split_into_words=True,\n",
    "    truncation=True,\n",
    "    max_length=512,\n",
    "    return_tensors=\"pt\"\n",
    ").to(device)\n",
    "\n",
    "# -----------------------------\n",
    "# 4️⃣ Predict\n",
    "# -----------------------------\n",
    "with torch.no_grad():\n",
    "    outputs = model(**encoded)\n",
    "    predictions = torch.argmax(outputs.logits, dim=-1)[0].cpu().numpy()\n",
    "\n",
    "# -----------------------------\n",
    "# 5️⃣ Align predictions to words\n",
    "# -----------------------------\n",
    "word_ids = encoded.word_ids(batch_index=0)\n",
    "\n",
    "label_list = [\"B-ADE\",\"B-DRUG\", \"I-ADE\",  \"I-DRUG\", \"O\"]\n",
    "id2label = {i: l for i, l in enumerate(label_list)}\n",
    "\n",
    "pred_labels = []\n",
    "previous_word_idx = None\n",
    "for idx, word_idx in enumerate(word_ids):\n",
    "    if word_idx is None or word_idx == previous_word_idx:\n",
    "        continue\n",
    "    pred_labels.append((tokens[word_idx], id2label[predictions[idx]]))\n",
    "    previous_word_idx = word_idx\n",
    "\n",
    "print(\"🔹 Token-level predictions:\")\n",
    "print(pred_labels)\n",
    "\n",
    "import string\n",
    "\n",
    "entities = {\"DRUG\": [], \"ADE\": []}\n",
    "current_entity = None\n",
    "current_words = []\n",
    "\n",
    "for word, label in pred_labels:\n",
    "    # Skip punctuation-only tokens\n",
    "    if all(ch in string.punctuation for ch in word):\n",
    "        continue\n",
    "\n",
    "    if label.startswith(\"B-\"):\n",
    "        if current_entity and current_words:\n",
    "            entities[current_entity].append(\" \".join(current_words))\n",
    "        current_entity = label.split(\"-\")[1]\n",
    "        current_words = [word]\n",
    "\n",
    "    elif label.startswith(\"I-\") and current_entity == label.split(\"-\")[1]:\n",
    "        current_words.append(word)\n",
    "\n",
    "    elif label.startswith(\"B-\") and current_entity == label.split(\"-\")[1]:\n",
    "        # Handle consecutive B-XXX (merge case)\n",
    "        current_words.append(word)\n",
    "\n",
    "    else:\n",
    "        if current_entity and current_words:\n",
    "            entities[current_entity].append(\" \".join(current_words))\n",
    "        current_entity = None\n",
    "        current_words = []\n",
    "\n",
    "# Add last\n",
    "if current_entity and current_words:\n",
    "    entities[current_entity].append(\" \".join(current_words))\n",
    "\n",
    "print(\"\\n🔹 Entity-level predictions:\")\n",
    "for ent_type, ent_list in entities.items():\n",
    "    print(f\"{ent_type}: {', '.join(ent_list) if ent_list else 'None'}\")"
   ]
  },
  {
   "cell_type": "code",
   "execution_count": 89,
   "metadata": {
    "colab": {
     "base_uri": "https://localhost:8080/"
    },
    "executionInfo": {
     "elapsed": 553,
     "status": "ok",
     "timestamp": 1759172546574,
     "user": {
      "displayName": "Suganya G",
      "userId": "14776330239557954849"
     },
     "user_tz": 240
    },
    "id": "QREJVD1B1hKX",
    "outputId": "e202a597-649b-4be5-c4a8-b50a57189706"
   },
   "outputs": [
    {
     "name": "stdout",
     "output_type": "stream",
     "text": [
      "\n",
      "==============================\n",
      "Sentence: After taking AstraZeneca vaccine, the patient experienced nausea and chest pain.\n",
      "🔹 Token-level predictions:\n",
      "[('After', 'O'), ('taking', 'O'), ('AstraZeneca', 'B-DRUG'), ('vaccine', 'O'), (',', 'O'), ('the', 'O'), ('patient', 'O'), ('experienced', 'O'), ('nausea', 'B-ADE'), ('and', 'O'), ('chest', 'B-ADE'), ('pain', 'I-ADE'), ('.', 'I-ADE')]\n",
      "\n",
      "🔹 Entity-level predictions (raw model):\n",
      "DRUG: AstraZeneca\n",
      "ADE: nausea, chest pain .\n",
      "\n",
      "🔹 Entity-level predictions (post-processed, fuzzy match):\n",
      "DRUG: AstraZeneca\n",
      "ADE: nausea, chest pain\n",
      "\n",
      "==============================\n",
      "Sentence: He was given Covaxin but developed rash and severe itching.\n",
      "🔹 Token-level predictions:\n",
      "[('He', 'O'), ('was', 'O'), ('given', 'O'), ('Covaxin', 'O'), ('but', 'O'), ('developed', 'O'), ('rash', 'B-ADE'), ('and', 'O'), ('severe', 'O'), ('itching', 'O'), ('.', 'O')]\n",
      "\n",
      "🔹 Entity-level predictions (raw model):\n",
      "DRUG: None\n",
      "ADE: rash\n",
      "\n",
      "🔹 Entity-level predictions (post-processed, fuzzy match):\n",
      "DRUG: covaxin\n",
      "ADE: rash, itching\n",
      "\n",
      "==============================\n",
      "Sentence: The subject reported fatigue, dizziness, and fever following the Pfizer booster.\n",
      "🔹 Token-level predictions:\n",
      "[('The', 'O'), ('subject', 'O'), ('reported', 'O'), ('fatigue', 'B-ADE'), (',', 'O'), ('dizziness', 'B-ADE'), (',', 'O'), ('and', 'O'), ('fever', 'B-ADE'), ('following', 'O'), ('the', 'O'), ('Pfizer', 'O'), ('booster', 'O'), ('.', 'O')]\n",
      "\n",
      "🔹 Entity-level predictions (raw model):\n",
      "DRUG: None\n",
      "ADE: fatigue, dizziness, fever\n",
      "\n",
      "🔹 Entity-level predictions (post-processed, fuzzy match):\n",
      "DRUG: pfizer\n",
      "ADE: fatigue, dizziness, fever\n",
      "\n",
      "==============================\n",
      "Sentence: Moderna shot was administered without immediate side effects.\n",
      "🔹 Token-level predictions:\n",
      "[('Moderna', 'B-DRUG'), ('shot', 'O'), ('was', 'O'), ('administered', 'O'), ('without', 'O'), ('immediate', 'O'), ('side', 'O'), ('effects', 'O'), ('.', 'O')]\n",
      "\n",
      "🔹 Entity-level predictions (raw model):\n",
      "DRUG: Moderna\n",
      "ADE: None\n",
      "\n",
      "🔹 Entity-level predictions (post-processed, fuzzy match):\n",
      "DRUG: Moderna\n",
      "ADE: None\n",
      "\n",
      "==============================\n",
      "Sentence: Patient got Pfizer-BioNTech vaccine and later reported severe dizziness, fatigue, and rash.\n",
      "🔹 Token-level predictions:\n",
      "[('Patient', 'O'), ('got', 'O'), ('Pfizer', 'O'), ('-', 'O'), ('BioNTech', 'O'), ('vaccine', 'O'), ('and', 'O'), ('later', 'O'), ('reported', 'O'), ('severe', 'O'), ('dizziness', 'B-ADE'), (',', 'O'), ('fatigue', 'B-ADE'), (',', 'O'), ('and', 'O'), ('rash', 'B-ADE'), ('.', 'B-ADE')]\n",
      "\n",
      "🔹 Entity-level predictions (raw model):\n",
      "DRUG: None\n",
      "ADE: dizziness, fatigue, rash .\n",
      "\n",
      "🔹 Entity-level predictions (post-processed, fuzzy match):\n",
      "DRUG: biontech, pfizer\n",
      "ADE: dizziness, fatigue, rash\n"
     ]
    }
   ],
   "source": [
    "from transformers import AutoTokenizer, AutoModelForTokenClassification\n",
    "import torch\n",
    "import re\n",
    "\n",
    "# -----------------------------\n",
    "# 1️⃣ Load model & tokenizer\n",
    "# -----------------------------\n",
    "model_path = \"biobert-ner-final\"\n",
    "tokenizer = AutoTokenizer.from_pretrained(model_path)\n",
    "model = AutoModelForTokenClassification.from_pretrained(model_path)\n",
    "model.eval()\n",
    "device = \"cuda\" if torch.cuda.is_available() else \"cpu\"\n",
    "model.to(device)\n",
    "\n",
    "# -----------------------------\n",
    "# 2️⃣ Post-processing dictionary\n",
    "# -----------------------------\n",
    "POSTPROCESS_DICT = {\n",
    "    \"DRUG\": {\n",
    "        \"pfizer\", \"moderna\", \"astrazeneca\", \"covaxin\",\n",
    "        \"janssen\", \"johnson\", \"johnson and johnson\", \"biontech\"\n",
    "    },\n",
    "    \"ADE\": {\n",
    "        \"fever\", \"headache\", \"dizziness\", \"nausea\",\n",
    "        \"rash\", \"fatigue\", \"chills\", \"itching\", \"sweating\",\n",
    "        \"chest pain\"\n",
    "    }\n",
    "}\n",
    "\n",
    "def normalize(text):\n",
    "    \"\"\"Lowercase, remove punctuation, collapse spaces.\"\"\"\n",
    "    text = text.lower()\n",
    "    text = re.sub(r\"[^a-z0-9\\s]\", \" \", text)\n",
    "    text = re.sub(r\"\\s+\", \" \", text).strip()\n",
    "    return text\n",
    "\n",
    "def postprocess_entities(text, entities):\n",
    "    \"\"\"Dictionary-based fuzzy mapping.\"\"\"\n",
    "    new_entities = {\"DRUG\": list(entities[\"DRUG\"]), \"ADE\": list(entities[\"ADE\"])}\n",
    "    text_norm = normalize(text)\n",
    "\n",
    "    for ent_type, vocab in POSTPROCESS_DICT.items():\n",
    "        for word in vocab:\n",
    "            word_norm = normalize(word)\n",
    "            if word_norm in text_norm and not any(word_norm in normalize(e) for e in new_entities[ent_type]):\n",
    "                new_entities[ent_type].append(word)\n",
    "    return new_entities\n",
    "\n",
    "def clean_entities(entities):\n",
    "    \"\"\"DRUG/ADE cleanup for unrealistic spans.\"\"\"\n",
    "    cleaned = {\"DRUG\": [], \"ADE\": []}\n",
    "\n",
    "    # Clean ADE\n",
    "    for ade in entities.get(\"ADE\", []):\n",
    "        ade = ade.strip(\"., \")\n",
    "        if ade and ade.lower() not in [\"and\", \"reported\", \"later\", \"severe\"]:\n",
    "            cleaned[\"ADE\"].append(ade)\n",
    "\n",
    "    # Clean DRUG\n",
    "    for drug in entities.get(\"DRUG\", []):\n",
    "        drug = re.sub(r\"\\band\\b.*\", \"\", drug)\n",
    "        drug = drug.strip(\"., \")\n",
    "        if re.search(r\"[A-Z]\", drug) and len(drug.split()) <= 5:\n",
    "            cleaned[\"DRUG\"].append(drug)\n",
    "\n",
    "    return cleaned\n",
    "\n",
    "# -----------------------------\n",
    "# 3️⃣ Predict function\n",
    "# -----------------------------\n",
    "def predict_entities(sentences):\n",
    "    id2label = {0:\"B-ADE\", 1:\"B-DRUG\", 2:\"I-ADE\", 3:\"I-DRUG\", 4:\"O\"}\n",
    "\n",
    "    for sent in sentences:\n",
    "        print(\"\\n==============================\")\n",
    "        print(\"Sentence:\", sent)\n",
    "\n",
    "        # Tokenize\n",
    "        tokens = re.findall(r\"\\w+|[^\\w\\s]\", sent)\n",
    "        encoded = tokenizer(\n",
    "            tokens,\n",
    "            is_split_into_words=True,\n",
    "            truncation=True,\n",
    "            max_length=512,\n",
    "            return_tensors=None\n",
    "        )\n",
    "        inputs = {k: torch.tensor([v]).to(device) for k, v in encoded.items()}\n",
    "\n",
    "        # Predict\n",
    "        with torch.no_grad():\n",
    "            outputs = model(**inputs)\n",
    "            predictions = torch.argmax(outputs.logits, dim=-1)[0].cpu().numpy()\n",
    "\n",
    "        # Align tokens with predictions\n",
    "        word_ids = encoded.word_ids(batch_index=0)\n",
    "        pred_labels = []\n",
    "        prev_word_idx = None\n",
    "        for idx, word_idx in enumerate(word_ids):\n",
    "            if word_idx is None or word_idx == prev_word_idx:\n",
    "                continue\n",
    "            pred_labels.append((tokens[word_idx], predictions[idx]))\n",
    "            prev_word_idx = word_idx\n",
    "\n",
    "        pred_labels_named = [(word, id2label[label]) for word, label in pred_labels]\n",
    "        print(\"🔹 Token-level predictions:\")\n",
    "        print(pred_labels_named)\n",
    "\n",
    "        # Merge contiguous entities\n",
    "        entities = {\"DRUG\": [], \"ADE\": []}\n",
    "        current_entity = None\n",
    "        current_words = []\n",
    "\n",
    "        for word, label in pred_labels_named:\n",
    "            if label in [\"B-DRUG\", \"I-DRUG\"]:\n",
    "                if current_entity == \"DRUG\":\n",
    "                    current_words.append(word)\n",
    "                else:\n",
    "                    if current_entity and current_words:\n",
    "                        entities[current_entity].append(\" \".join(current_words))\n",
    "                    current_entity = \"DRUG\"\n",
    "                    current_words = [word]\n",
    "            elif label in [\"B-ADE\", \"I-ADE\"]:\n",
    "                if current_entity == \"ADE\":\n",
    "                    current_words.append(word)\n",
    "                else:\n",
    "                    if current_entity and current_words:\n",
    "                        entities[current_entity].append(\" \".join(current_words))\n",
    "                    current_entity = \"ADE\"\n",
    "                    current_words = [word]\n",
    "            else:\n",
    "                if current_entity and current_words:\n",
    "                    entities[current_entity].append(\" \".join(current_words))\n",
    "                current_entity = None\n",
    "                current_words = []\n",
    "\n",
    "        if current_entity and current_words:\n",
    "            entities[current_entity].append(\" \".join(current_words))\n",
    "\n",
    "        print(\"\\n🔹 Entity-level predictions (raw model):\")\n",
    "        for ent_type, ent_list in entities.items():\n",
    "            print(f\"{ent_type}: {', '.join(ent_list) if ent_list else 'None'}\")\n",
    "\n",
    "        # Post-process\n",
    "        entities_clean = clean_entities(entities)\n",
    "        entities_post = postprocess_entities(sent, entities_clean)\n",
    "\n",
    "        print(\"\\n🔹 Entity-level predictions (post-processed, fuzzy match):\")\n",
    "        for ent_type, ent_list in entities_post.items():\n",
    "            print(f\"{ent_type}: {', '.join(ent_list) if ent_list else 'None'}\")\n",
    "\n",
    "\n",
    "# -----------------------------\n",
    "# 4️⃣ Example usage\n",
    "# -----------------------------\n",
    "sentences = [\n",
    "    \"After taking AstraZeneca vaccine, the patient experienced nausea and chest pain.\",\n",
    "    \"He was given Covaxin but developed rash and severe itching.\",\n",
    "    \"The subject reported fatigue, dizziness, and fever following the Pfizer booster.\",\n",
    "    \"Moderna shot was administered without immediate side effects.\",\n",
    "    \"Patient got Pfizer-BioNTech vaccine and later reported severe dizziness, fatigue, and rash.\"\n",
    "]\n",
    "\n",
    "predict_entities(sentences)\n"
   ]
  },
  {
   "cell_type": "code",
   "execution_count": 90,
   "metadata": {
    "colab": {
     "base_uri": "https://localhost:8080/",
     "height": 225
    },
    "executionInfo": {
     "elapsed": 37989,
     "status": "ok",
     "timestamp": 1759173009012,
     "user": {
      "displayName": "Suganya G",
      "userId": "14776330239557954849"
     },
     "user_tz": 240
    },
    "id": "Wbczpx0Y0jky",
    "outputId": "87e33b6a-b042-4e81-d141-984f06495427"
   },
   "outputs": [
    {
     "name": "stdout",
     "output_type": "stream",
     "text": [
      "  adding: content/ner_biobert/checkpoint-4895/ (stored 0%)\n",
      "  adding: content/ner_biobert/checkpoint-4895/training_args.bin (deflated 53%)\n",
      "  adding: content/ner_biobert/checkpoint-4895/tokenizer_config.json (deflated 74%)\n",
      "  adding: content/ner_biobert/checkpoint-4895/vocab.txt (deflated 49%)\n",
      "  adding: content/ner_biobert/checkpoint-4895/special_tokens_map.json (deflated 42%)\n",
      "  adding: content/ner_biobert/checkpoint-4895/config.json (deflated 51%)\n",
      "  adding: content/ner_biobert/checkpoint-4895/rng_state.pth (deflated 26%)\n",
      "  adding: content/ner_biobert/checkpoint-4895/tokenizer.json (deflated 70%)\n",
      "  adding: content/ner_biobert/checkpoint-4895/scheduler.pt (deflated 62%)\n",
      "  adding: content/ner_biobert/checkpoint-4895/optimizer.pt (deflated 8%)\n",
      "  adding: content/ner_biobert/checkpoint-4895/model.safetensors (deflated 7%)\n",
      "  adding: content/ner_biobert/checkpoint-4895/trainer_state.json (deflated 76%)\n"
     ]
    },
    {
     "data": {
      "application/javascript": [
       "\n",
       "    async function download(id, filename, size) {\n",
       "      if (!google.colab.kernel.accessAllowed) {\n",
       "        return;\n",
       "      }\n",
       "      const div = document.createElement('div');\n",
       "      const label = document.createElement('label');\n",
       "      label.textContent = `Downloading \"${filename}\": `;\n",
       "      div.appendChild(label);\n",
       "      const progress = document.createElement('progress');\n",
       "      progress.max = size;\n",
       "      div.appendChild(progress);\n",
       "      document.body.appendChild(div);\n",
       "\n",
       "      const buffers = [];\n",
       "      let downloaded = 0;\n",
       "\n",
       "      const channel = await google.colab.kernel.comms.open(id);\n",
       "      // Send a message to notify the kernel that we're ready.\n",
       "      channel.send({})\n",
       "\n",
       "      for await (const message of channel.messages) {\n",
       "        // Send a message to notify the kernel that we're ready.\n",
       "        channel.send({})\n",
       "        if (message.buffers) {\n",
       "          for (const buffer of message.buffers) {\n",
       "            buffers.push(buffer);\n",
       "            downloaded += buffer.byteLength;\n",
       "            progress.value = downloaded;\n",
       "          }\n",
       "        }\n",
       "      }\n",
       "      const blob = new Blob(buffers, {type: 'application/binary'});\n",
       "      const a = document.createElement('a');\n",
       "      a.href = window.URL.createObjectURL(blob);\n",
       "      a.download = filename;\n",
       "      div.appendChild(a);\n",
       "      a.click();\n",
       "      div.remove();\n",
       "    }\n",
       "  "
      ],
      "text/plain": [
       "<IPython.core.display.Javascript object>"
      ]
     },
     "metadata": {},
     "output_type": "display_data"
    },
    {
     "data": {
      "application/javascript": [
       "download(\"download_7ce8c466-e822-4b0f-9c3d-40efd894a76d\", \"checkpoint-4895.zip\", 607382231)"
      ],
      "text/plain": [
       "<IPython.core.display.Javascript object>"
      ]
     },
     "metadata": {},
     "output_type": "display_data"
    }
   ],
   "source": [
    "\n",
    "# Zip the last checkpoint folder\n",
    "!zip -r checkpoint-4895.zip /content/ner_biobert/checkpoint-4895\n",
    "\n",
    "# Download the zip\n",
    "from google.colab import files\n",
    "files.download(\"checkpoint-4895.zip\")\n"
   ]
  }
 ],
 "metadata": {
  "accelerator": "GPU",
  "colab": {
   "gpuType": "T4",
   "provenance": []
  },
  "kernelspec": {
   "display_name": "Python 3 (ipykernel)",
   "language": "python",
   "name": "python3"
  },
  "language_info": {
   "codemirror_mode": {
    "name": "ipython",
    "version": 3
   },
   "file_extension": ".py",
   "mimetype": "text/x-python",
   "name": "python",
   "nbconvert_exporter": "python",
   "pygments_lexer": "ipython3",
   "version": "3.13.0"
  },
  "widgets": {
   "application/vnd.jupyter.widget-state+json": {
    "0f5c0451e62e453b84caf9564b640454": {
     "model_module": "@jupyter-widgets/base",
     "model_module_version": "1.2.0",
     "model_name": "LayoutModel",
     "state": {
      "_model_module": "@jupyter-widgets/base",
      "_model_module_version": "1.2.0",
      "_model_name": "LayoutModel",
      "_view_count": null,
      "_view_module": "@jupyter-widgets/base",
      "_view_module_version": "1.2.0",
      "_view_name": "LayoutView",
      "align_content": null,
      "align_items": null,
      "align_self": null,
      "border": null,
      "bottom": null,
      "display": null,
      "flex": null,
      "flex_flow": null,
      "grid_area": null,
      "grid_auto_columns": null,
      "grid_auto_flow": null,
      "grid_auto_rows": null,
      "grid_column": null,
      "grid_gap": null,
      "grid_row": null,
      "grid_template_areas": null,
      "grid_template_columns": null,
      "grid_template_rows": null,
      "height": null,
      "justify_content": null,
      "justify_items": null,
      "left": null,
      "margin": null,
      "max_height": null,
      "max_width": null,
      "min_height": null,
      "min_width": null,
      "object_fit": null,
      "object_position": null,
      "order": null,
      "overflow": null,
      "overflow_x": null,
      "overflow_y": null,
      "padding": null,
      "right": null,
      "top": null,
      "visibility": null,
      "width": null
     }
    },
    "1357b6732fac42bca5951bba328d7c20": {
     "model_module": "@jupyter-widgets/controls",
     "model_module_version": "1.5.0",
     "model_name": "DescriptionStyleModel",
     "state": {
      "_model_module": "@jupyter-widgets/controls",
      "_model_module_version": "1.5.0",
      "_model_name": "DescriptionStyleModel",
      "_view_count": null,
      "_view_module": "@jupyter-widgets/base",
      "_view_module_version": "1.2.0",
      "_view_name": "StyleView",
      "description_width": ""
     }
    },
    "1887e1e3e3984a0c8989b57d8a4246f9": {
     "model_module": "@jupyter-widgets/controls",
     "model_module_version": "1.5.0",
     "model_name": "ProgressStyleModel",
     "state": {
      "_model_module": "@jupyter-widgets/controls",
      "_model_module_version": "1.5.0",
      "_model_name": "ProgressStyleModel",
      "_view_count": null,
      "_view_module": "@jupyter-widgets/base",
      "_view_module_version": "1.2.0",
      "_view_name": "StyleView",
      "bar_color": null,
      "description_width": ""
     }
    },
    "1ba82e63e9024417a46045eb288d72c7": {
     "model_module": "@jupyter-widgets/base",
     "model_module_version": "1.2.0",
     "model_name": "LayoutModel",
     "state": {
      "_model_module": "@jupyter-widgets/base",
      "_model_module_version": "1.2.0",
      "_model_name": "LayoutModel",
      "_view_count": null,
      "_view_module": "@jupyter-widgets/base",
      "_view_module_version": "1.2.0",
      "_view_name": "LayoutView",
      "align_content": null,
      "align_items": null,
      "align_self": null,
      "border": null,
      "bottom": null,
      "display": null,
      "flex": null,
      "flex_flow": null,
      "grid_area": null,
      "grid_auto_columns": null,
      "grid_auto_flow": null,
      "grid_auto_rows": null,
      "grid_column": null,
      "grid_gap": null,
      "grid_row": null,
      "grid_template_areas": null,
      "grid_template_columns": null,
      "grid_template_rows": null,
      "height": null,
      "justify_content": null,
      "justify_items": null,
      "left": null,
      "margin": null,
      "max_height": null,
      "max_width": null,
      "min_height": null,
      "min_width": null,
      "object_fit": null,
      "object_position": null,
      "order": null,
      "overflow": null,
      "overflow_x": null,
      "overflow_y": null,
      "padding": null,
      "right": null,
      "top": null,
      "visibility": null,
      "width": null
     }
    },
    "25a3689e9353475d8051289ae41702fa": {
     "model_module": "@jupyter-widgets/controls",
     "model_module_version": "1.5.0",
     "model_name": "DescriptionStyleModel",
     "state": {
      "_model_module": "@jupyter-widgets/controls",
      "_model_module_version": "1.5.0",
      "_model_name": "DescriptionStyleModel",
      "_view_count": null,
      "_view_module": "@jupyter-widgets/base",
      "_view_module_version": "1.2.0",
      "_view_name": "StyleView",
      "description_width": ""
     }
    },
    "32f2c6e05a734a38a166a1c77ad0bec5": {
     "model_module": "@jupyter-widgets/controls",
     "model_module_version": "1.5.0",
     "model_name": "HTMLModel",
     "state": {
      "_dom_classes": [],
      "_model_module": "@jupyter-widgets/controls",
      "_model_module_version": "1.5.0",
      "_model_name": "HTMLModel",
      "_view_count": null,
      "_view_module": "@jupyter-widgets/controls",
      "_view_module_version": "1.5.0",
      "_view_name": "HTMLView",
      "description": "",
      "description_tooltip": null,
      "layout": "IPY_MODEL_dd0c6f087c984af9b4664312e000598c",
      "placeholder": "​",
      "style": "IPY_MODEL_25a3689e9353475d8051289ae41702fa",
      "value": "Map: 100%"
     }
    },
    "3752f310f3ab4f44ae86eb6c2284c46a": {
     "model_module": "@jupyter-widgets/controls",
     "model_module_version": "1.5.0",
     "model_name": "DescriptionStyleModel",
     "state": {
      "_model_module": "@jupyter-widgets/controls",
      "_model_module_version": "1.5.0",
      "_model_name": "DescriptionStyleModel",
      "_view_count": null,
      "_view_module": "@jupyter-widgets/base",
      "_view_module_version": "1.2.0",
      "_view_name": "StyleView",
      "description_width": ""
     }
    },
    "37aeab3d9cf7420ab89cc6288845c548": {
     "model_module": "@jupyter-widgets/controls",
     "model_module_version": "1.5.0",
     "model_name": "HBoxModel",
     "state": {
      "_dom_classes": [],
      "_model_module": "@jupyter-widgets/controls",
      "_model_module_version": "1.5.0",
      "_model_name": "HBoxModel",
      "_view_count": null,
      "_view_module": "@jupyter-widgets/controls",
      "_view_module_version": "1.5.0",
      "_view_name": "HBoxView",
      "box_style": "",
      "children": [
       "IPY_MODEL_7c2a0f1d0e794027bc8bbc7cab0209e5",
       "IPY_MODEL_38de5003f55d4599bd8127d3c3e3b5ac",
       "IPY_MODEL_8cec0577d71446e888c054e2ff462fc7"
      ],
      "layout": "IPY_MODEL_a6f9488d33224ac88121db2233c4a01f"
     }
    },
    "388076ba1faa4748a1ac91e88afd1d9b": {
     "model_module": "@jupyter-widgets/base",
     "model_module_version": "1.2.0",
     "model_name": "LayoutModel",
     "state": {
      "_model_module": "@jupyter-widgets/base",
      "_model_module_version": "1.2.0",
      "_model_name": "LayoutModel",
      "_view_count": null,
      "_view_module": "@jupyter-widgets/base",
      "_view_module_version": "1.2.0",
      "_view_name": "LayoutView",
      "align_content": null,
      "align_items": null,
      "align_self": null,
      "border": null,
      "bottom": null,
      "display": null,
      "flex": null,
      "flex_flow": null,
      "grid_area": null,
      "grid_auto_columns": null,
      "grid_auto_flow": null,
      "grid_auto_rows": null,
      "grid_column": null,
      "grid_gap": null,
      "grid_row": null,
      "grid_template_areas": null,
      "grid_template_columns": null,
      "grid_template_rows": null,
      "height": null,
      "justify_content": null,
      "justify_items": null,
      "left": null,
      "margin": null,
      "max_height": null,
      "max_width": null,
      "min_height": null,
      "min_width": null,
      "object_fit": null,
      "object_position": null,
      "order": null,
      "overflow": null,
      "overflow_x": null,
      "overflow_y": null,
      "padding": null,
      "right": null,
      "top": null,
      "visibility": null,
      "width": null
     }
    },
    "38de5003f55d4599bd8127d3c3e3b5ac": {
     "model_module": "@jupyter-widgets/controls",
     "model_module_version": "1.5.0",
     "model_name": "FloatProgressModel",
     "state": {
      "_dom_classes": [],
      "_model_module": "@jupyter-widgets/controls",
      "_model_module_version": "1.5.0",
      "_model_name": "FloatProgressModel",
      "_view_count": null,
      "_view_module": "@jupyter-widgets/controls",
      "_view_module_version": "1.5.0",
      "_view_name": "ProgressView",
      "bar_style": "success",
      "description": "",
      "description_tooltip": null,
      "layout": "IPY_MODEL_9c135ca7f3c84d29a23604a02c1c0365",
      "max": 15658,
      "min": 0,
      "orientation": "horizontal",
      "style": "IPY_MODEL_1887e1e3e3984a0c8989b57d8a4246f9",
      "value": 15658
     }
    },
    "41f85153f61c4dd5ab92641a5ded87ca": {
     "model_module": "@jupyter-widgets/controls",
     "model_module_version": "1.5.0",
     "model_name": "DescriptionStyleModel",
     "state": {
      "_model_module": "@jupyter-widgets/controls",
      "_model_module_version": "1.5.0",
      "_model_name": "DescriptionStyleModel",
      "_view_count": null,
      "_view_module": "@jupyter-widgets/base",
      "_view_module_version": "1.2.0",
      "_view_name": "StyleView",
      "description_width": ""
     }
    },
    "44c6267cde8349aeab021a930c980702": {
     "model_module": "@jupyter-widgets/base",
     "model_module_version": "1.2.0",
     "model_name": "LayoutModel",
     "state": {
      "_model_module": "@jupyter-widgets/base",
      "_model_module_version": "1.2.0",
      "_model_name": "LayoutModel",
      "_view_count": null,
      "_view_module": "@jupyter-widgets/base",
      "_view_module_version": "1.2.0",
      "_view_name": "LayoutView",
      "align_content": null,
      "align_items": null,
      "align_self": null,
      "border": null,
      "bottom": null,
      "display": null,
      "flex": null,
      "flex_flow": null,
      "grid_area": null,
      "grid_auto_columns": null,
      "grid_auto_flow": null,
      "grid_auto_rows": null,
      "grid_column": null,
      "grid_gap": null,
      "grid_row": null,
      "grid_template_areas": null,
      "grid_template_columns": null,
      "grid_template_rows": null,
      "height": null,
      "justify_content": null,
      "justify_items": null,
      "left": null,
      "margin": null,
      "max_height": null,
      "max_width": null,
      "min_height": null,
      "min_width": null,
      "object_fit": null,
      "object_position": null,
      "order": null,
      "overflow": null,
      "overflow_x": null,
      "overflow_y": null,
      "padding": null,
      "right": null,
      "top": null,
      "visibility": null,
      "width": null
     }
    },
    "7424c4376f1b41a98a92b2f57918af1b": {
     "model_module": "@jupyter-widgets/controls",
     "model_module_version": "1.5.0",
     "model_name": "ProgressStyleModel",
     "state": {
      "_model_module": "@jupyter-widgets/controls",
      "_model_module_version": "1.5.0",
      "_model_name": "ProgressStyleModel",
      "_view_count": null,
      "_view_module": "@jupyter-widgets/base",
      "_view_module_version": "1.2.0",
      "_view_name": "StyleView",
      "bar_color": null,
      "description_width": ""
     }
    },
    "7c2a0f1d0e794027bc8bbc7cab0209e5": {
     "model_module": "@jupyter-widgets/controls",
     "model_module_version": "1.5.0",
     "model_name": "HTMLModel",
     "state": {
      "_dom_classes": [],
      "_model_module": "@jupyter-widgets/controls",
      "_model_module_version": "1.5.0",
      "_model_name": "HTMLModel",
      "_view_count": null,
      "_view_module": "@jupyter-widgets/controls",
      "_view_module_version": "1.5.0",
      "_view_name": "HTMLView",
      "description": "",
      "description_tooltip": null,
      "layout": "IPY_MODEL_1ba82e63e9024417a46045eb288d72c7",
      "placeholder": "​",
      "style": "IPY_MODEL_a197d80cee8541feb58681159f932a6e",
      "value": "Map: 100%"
     }
    },
    "8ac597f4a98a4c459c53f1f4c28fe55b": {
     "model_module": "@jupyter-widgets/controls",
     "model_module_version": "1.5.0",
     "model_name": "ProgressStyleModel",
     "state": {
      "_model_module": "@jupyter-widgets/controls",
      "_model_module_version": "1.5.0",
      "_model_name": "ProgressStyleModel",
      "_view_count": null,
      "_view_module": "@jupyter-widgets/base",
      "_view_module_version": "1.2.0",
      "_view_name": "StyleView",
      "bar_color": null,
      "description_width": ""
     }
    },
    "8cec0577d71446e888c054e2ff462fc7": {
     "model_module": "@jupyter-widgets/controls",
     "model_module_version": "1.5.0",
     "model_name": "HTMLModel",
     "state": {
      "_dom_classes": [],
      "_model_module": "@jupyter-widgets/controls",
      "_model_module_version": "1.5.0",
      "_model_name": "HTMLModel",
      "_view_count": null,
      "_view_module": "@jupyter-widgets/controls",
      "_view_module_version": "1.5.0",
      "_view_name": "HTMLView",
      "description": "",
      "description_tooltip": null,
      "layout": "IPY_MODEL_f44fd645d2ee47ddba9441244c541ae5",
      "placeholder": "​",
      "style": "IPY_MODEL_41f85153f61c4dd5ab92641a5ded87ca",
      "value": " 15658/15658 [00:20&lt;00:00, 901.89 examples/s]"
     }
    },
    "8e12c8d76da944ce908f4dc55d699bc2": {
     "model_module": "@jupyter-widgets/base",
     "model_module_version": "1.2.0",
     "model_name": "LayoutModel",
     "state": {
      "_model_module": "@jupyter-widgets/base",
      "_model_module_version": "1.2.0",
      "_model_name": "LayoutModel",
      "_view_count": null,
      "_view_module": "@jupyter-widgets/base",
      "_view_module_version": "1.2.0",
      "_view_name": "LayoutView",
      "align_content": null,
      "align_items": null,
      "align_self": null,
      "border": null,
      "bottom": null,
      "display": null,
      "flex": null,
      "flex_flow": null,
      "grid_area": null,
      "grid_auto_columns": null,
      "grid_auto_flow": null,
      "grid_auto_rows": null,
      "grid_column": null,
      "grid_gap": null,
      "grid_row": null,
      "grid_template_areas": null,
      "grid_template_columns": null,
      "grid_template_rows": null,
      "height": null,
      "justify_content": null,
      "justify_items": null,
      "left": null,
      "margin": null,
      "max_height": null,
      "max_width": null,
      "min_height": null,
      "min_width": null,
      "object_fit": null,
      "object_position": null,
      "order": null,
      "overflow": null,
      "overflow_x": null,
      "overflow_y": null,
      "padding": null,
      "right": null,
      "top": null,
      "visibility": null,
      "width": null
     }
    },
    "8f8bdb9bea8549edbba4d55dcb567d5b": {
     "model_module": "@jupyter-widgets/controls",
     "model_module_version": "1.5.0",
     "model_name": "HTMLModel",
     "state": {
      "_dom_classes": [],
      "_model_module": "@jupyter-widgets/controls",
      "_model_module_version": "1.5.0",
      "_model_name": "HTMLModel",
      "_view_count": null,
      "_view_module": "@jupyter-widgets/controls",
      "_view_module_version": "1.5.0",
      "_view_name": "HTMLView",
      "description": "",
      "description_tooltip": null,
      "layout": "IPY_MODEL_0f5c0451e62e453b84caf9564b640454",
      "placeholder": "​",
      "style": "IPY_MODEL_3752f310f3ab4f44ae86eb6c2284c46a",
      "value": " 1382/1382 [00:01&lt;00:00, 966.13 examples/s]"
     }
    },
    "9c135ca7f3c84d29a23604a02c1c0365": {
     "model_module": "@jupyter-widgets/base",
     "model_module_version": "1.2.0",
     "model_name": "LayoutModel",
     "state": {
      "_model_module": "@jupyter-widgets/base",
      "_model_module_version": "1.2.0",
      "_model_name": "LayoutModel",
      "_view_count": null,
      "_view_module": "@jupyter-widgets/base",
      "_view_module_version": "1.2.0",
      "_view_name": "LayoutView",
      "align_content": null,
      "align_items": null,
      "align_self": null,
      "border": null,
      "bottom": null,
      "display": null,
      "flex": null,
      "flex_flow": null,
      "grid_area": null,
      "grid_auto_columns": null,
      "grid_auto_flow": null,
      "grid_auto_rows": null,
      "grid_column": null,
      "grid_gap": null,
      "grid_row": null,
      "grid_template_areas": null,
      "grid_template_columns": null,
      "grid_template_rows": null,
      "height": null,
      "justify_content": null,
      "justify_items": null,
      "left": null,
      "margin": null,
      "max_height": null,
      "max_width": null,
      "min_height": null,
      "min_width": null,
      "object_fit": null,
      "object_position": null,
      "order": null,
      "overflow": null,
      "overflow_x": null,
      "overflow_y": null,
      "padding": null,
      "right": null,
      "top": null,
      "visibility": null,
      "width": null
     }
    },
    "9d38ec5586604004949c82599f93360f": {
     "model_module": "@jupyter-widgets/base",
     "model_module_version": "1.2.0",
     "model_name": "LayoutModel",
     "state": {
      "_model_module": "@jupyter-widgets/base",
      "_model_module_version": "1.2.0",
      "_model_name": "LayoutModel",
      "_view_count": null,
      "_view_module": "@jupyter-widgets/base",
      "_view_module_version": "1.2.0",
      "_view_name": "LayoutView",
      "align_content": null,
      "align_items": null,
      "align_self": null,
      "border": null,
      "bottom": null,
      "display": null,
      "flex": null,
      "flex_flow": null,
      "grid_area": null,
      "grid_auto_columns": null,
      "grid_auto_flow": null,
      "grid_auto_rows": null,
      "grid_column": null,
      "grid_gap": null,
      "grid_row": null,
      "grid_template_areas": null,
      "grid_template_columns": null,
      "grid_template_rows": null,
      "height": null,
      "justify_content": null,
      "justify_items": null,
      "left": null,
      "margin": null,
      "max_height": null,
      "max_width": null,
      "min_height": null,
      "min_width": null,
      "object_fit": null,
      "object_position": null,
      "order": null,
      "overflow": null,
      "overflow_x": null,
      "overflow_y": null,
      "padding": null,
      "right": null,
      "top": null,
      "visibility": null,
      "width": null
     }
    },
    "a197d80cee8541feb58681159f932a6e": {
     "model_module": "@jupyter-widgets/controls",
     "model_module_version": "1.5.0",
     "model_name": "DescriptionStyleModel",
     "state": {
      "_model_module": "@jupyter-widgets/controls",
      "_model_module_version": "1.5.0",
      "_model_name": "DescriptionStyleModel",
      "_view_count": null,
      "_view_module": "@jupyter-widgets/base",
      "_view_module_version": "1.2.0",
      "_view_name": "StyleView",
      "description_width": ""
     }
    },
    "a6f9488d33224ac88121db2233c4a01f": {
     "model_module": "@jupyter-widgets/base",
     "model_module_version": "1.2.0",
     "model_name": "LayoutModel",
     "state": {
      "_model_module": "@jupyter-widgets/base",
      "_model_module_version": "1.2.0",
      "_model_name": "LayoutModel",
      "_view_count": null,
      "_view_module": "@jupyter-widgets/base",
      "_view_module_version": "1.2.0",
      "_view_name": "LayoutView",
      "align_content": null,
      "align_items": null,
      "align_self": null,
      "border": null,
      "bottom": null,
      "display": null,
      "flex": null,
      "flex_flow": null,
      "grid_area": null,
      "grid_auto_columns": null,
      "grid_auto_flow": null,
      "grid_auto_rows": null,
      "grid_column": null,
      "grid_gap": null,
      "grid_row": null,
      "grid_template_areas": null,
      "grid_template_columns": null,
      "grid_template_rows": null,
      "height": null,
      "justify_content": null,
      "justify_items": null,
      "left": null,
      "margin": null,
      "max_height": null,
      "max_width": null,
      "min_height": null,
      "min_width": null,
      "object_fit": null,
      "object_position": null,
      "order": null,
      "overflow": null,
      "overflow_x": null,
      "overflow_y": null,
      "padding": null,
      "right": null,
      "top": null,
      "visibility": null,
      "width": null
     }
    },
    "b7fe7516f09240209af5f35d1a8294d2": {
     "model_module": "@jupyter-widgets/controls",
     "model_module_version": "1.5.0",
     "model_name": "HTMLModel",
     "state": {
      "_dom_classes": [],
      "_model_module": "@jupyter-widgets/controls",
      "_model_module_version": "1.5.0",
      "_model_name": "HTMLModel",
      "_view_count": null,
      "_view_module": "@jupyter-widgets/controls",
      "_view_module_version": "1.5.0",
      "_view_name": "HTMLView",
      "description": "",
      "description_tooltip": null,
      "layout": "IPY_MODEL_9d38ec5586604004949c82599f93360f",
      "placeholder": "​",
      "style": "IPY_MODEL_f673424a43d94595845a39b9c7c12b64",
      "value": "Map: 100%"
     }
    },
    "c0a7d7a622fc4149b026ddb64ba4cd70": {
     "model_module": "@jupyter-widgets/controls",
     "model_module_version": "1.5.0",
     "model_name": "HTMLModel",
     "state": {
      "_dom_classes": [],
      "_model_module": "@jupyter-widgets/controls",
      "_model_module_version": "1.5.0",
      "_model_name": "HTMLModel",
      "_view_count": null,
      "_view_module": "@jupyter-widgets/controls",
      "_view_module_version": "1.5.0",
      "_view_name": "HTMLView",
      "description": "",
      "description_tooltip": null,
      "layout": "IPY_MODEL_44c6267cde8349aeab021a930c980702",
      "placeholder": "​",
      "style": "IPY_MODEL_1357b6732fac42bca5951bba328d7c20",
      "value": " 1382/1382 [00:01&lt;00:00, 914.26 examples/s]"
     }
    },
    "c7815389f227405eb833742ac0c40517": {
     "model_module": "@jupyter-widgets/base",
     "model_module_version": "1.2.0",
     "model_name": "LayoutModel",
     "state": {
      "_model_module": "@jupyter-widgets/base",
      "_model_module_version": "1.2.0",
      "_model_name": "LayoutModel",
      "_view_count": null,
      "_view_module": "@jupyter-widgets/base",
      "_view_module_version": "1.2.0",
      "_view_name": "LayoutView",
      "align_content": null,
      "align_items": null,
      "align_self": null,
      "border": null,
      "bottom": null,
      "display": null,
      "flex": null,
      "flex_flow": null,
      "grid_area": null,
      "grid_auto_columns": null,
      "grid_auto_flow": null,
      "grid_auto_rows": null,
      "grid_column": null,
      "grid_gap": null,
      "grid_row": null,
      "grid_template_areas": null,
      "grid_template_columns": null,
      "grid_template_rows": null,
      "height": null,
      "justify_content": null,
      "justify_items": null,
      "left": null,
      "margin": null,
      "max_height": null,
      "max_width": null,
      "min_height": null,
      "min_width": null,
      "object_fit": null,
      "object_position": null,
      "order": null,
      "overflow": null,
      "overflow_x": null,
      "overflow_y": null,
      "padding": null,
      "right": null,
      "top": null,
      "visibility": null,
      "width": null
     }
    },
    "cfb4a5e0653c446983bfac8e2d4ec4d8": {
     "model_module": "@jupyter-widgets/controls",
     "model_module_version": "1.5.0",
     "model_name": "FloatProgressModel",
     "state": {
      "_dom_classes": [],
      "_model_module": "@jupyter-widgets/controls",
      "_model_module_version": "1.5.0",
      "_model_name": "FloatProgressModel",
      "_view_count": null,
      "_view_module": "@jupyter-widgets/controls",
      "_view_module_version": "1.5.0",
      "_view_name": "ProgressView",
      "bar_style": "success",
      "description": "",
      "description_tooltip": null,
      "layout": "IPY_MODEL_388076ba1faa4748a1ac91e88afd1d9b",
      "max": 1382,
      "min": 0,
      "orientation": "horizontal",
      "style": "IPY_MODEL_8ac597f4a98a4c459c53f1f4c28fe55b",
      "value": 1382
     }
    },
    "dd0c6f087c984af9b4664312e000598c": {
     "model_module": "@jupyter-widgets/base",
     "model_module_version": "1.2.0",
     "model_name": "LayoutModel",
     "state": {
      "_model_module": "@jupyter-widgets/base",
      "_model_module_version": "1.2.0",
      "_model_name": "LayoutModel",
      "_view_count": null,
      "_view_module": "@jupyter-widgets/base",
      "_view_module_version": "1.2.0",
      "_view_name": "LayoutView",
      "align_content": null,
      "align_items": null,
      "align_self": null,
      "border": null,
      "bottom": null,
      "display": null,
      "flex": null,
      "flex_flow": null,
      "grid_area": null,
      "grid_auto_columns": null,
      "grid_auto_flow": null,
      "grid_auto_rows": null,
      "grid_column": null,
      "grid_gap": null,
      "grid_row": null,
      "grid_template_areas": null,
      "grid_template_columns": null,
      "grid_template_rows": null,
      "height": null,
      "justify_content": null,
      "justify_items": null,
      "left": null,
      "margin": null,
      "max_height": null,
      "max_width": null,
      "min_height": null,
      "min_width": null,
      "object_fit": null,
      "object_position": null,
      "order": null,
      "overflow": null,
      "overflow_x": null,
      "overflow_y": null,
      "padding": null,
      "right": null,
      "top": null,
      "visibility": null,
      "width": null
     }
    },
    "e18ff5512d664709ae704b6bfa14f5ea": {
     "model_module": "@jupyter-widgets/controls",
     "model_module_version": "1.5.0",
     "model_name": "FloatProgressModel",
     "state": {
      "_dom_classes": [],
      "_model_module": "@jupyter-widgets/controls",
      "_model_module_version": "1.5.0",
      "_model_name": "FloatProgressModel",
      "_view_count": null,
      "_view_module": "@jupyter-widgets/controls",
      "_view_module_version": "1.5.0",
      "_view_name": "ProgressView",
      "bar_style": "success",
      "description": "",
      "description_tooltip": null,
      "layout": "IPY_MODEL_8e12c8d76da944ce908f4dc55d699bc2",
      "max": 1382,
      "min": 0,
      "orientation": "horizontal",
      "style": "IPY_MODEL_7424c4376f1b41a98a92b2f57918af1b",
      "value": 1382
     }
    },
    "e9604a36bf8144bfb9815d59155746dd": {
     "model_module": "@jupyter-widgets/controls",
     "model_module_version": "1.5.0",
     "model_name": "HBoxModel",
     "state": {
      "_dom_classes": [],
      "_model_module": "@jupyter-widgets/controls",
      "_model_module_version": "1.5.0",
      "_model_name": "HBoxModel",
      "_view_count": null,
      "_view_module": "@jupyter-widgets/controls",
      "_view_module_version": "1.5.0",
      "_view_name": "HBoxView",
      "box_style": "",
      "children": [
       "IPY_MODEL_32f2c6e05a734a38a166a1c77ad0bec5",
       "IPY_MODEL_cfb4a5e0653c446983bfac8e2d4ec4d8",
       "IPY_MODEL_c0a7d7a622fc4149b026ddb64ba4cd70"
      ],
      "layout": "IPY_MODEL_ffb228a571454d2d9829aaf93e4842be"
     }
    },
    "e9a7938c5ab847ea8d6424e8286bfcf1": {
     "model_module": "@jupyter-widgets/controls",
     "model_module_version": "1.5.0",
     "model_name": "HBoxModel",
     "state": {
      "_dom_classes": [],
      "_model_module": "@jupyter-widgets/controls",
      "_model_module_version": "1.5.0",
      "_model_name": "HBoxModel",
      "_view_count": null,
      "_view_module": "@jupyter-widgets/controls",
      "_view_module_version": "1.5.0",
      "_view_name": "HBoxView",
      "box_style": "",
      "children": [
       "IPY_MODEL_b7fe7516f09240209af5f35d1a8294d2",
       "IPY_MODEL_e18ff5512d664709ae704b6bfa14f5ea",
       "IPY_MODEL_8f8bdb9bea8549edbba4d55dcb567d5b"
      ],
      "layout": "IPY_MODEL_c7815389f227405eb833742ac0c40517"
     }
    },
    "f44fd645d2ee47ddba9441244c541ae5": {
     "model_module": "@jupyter-widgets/base",
     "model_module_version": "1.2.0",
     "model_name": "LayoutModel",
     "state": {
      "_model_module": "@jupyter-widgets/base",
      "_model_module_version": "1.2.0",
      "_model_name": "LayoutModel",
      "_view_count": null,
      "_view_module": "@jupyter-widgets/base",
      "_view_module_version": "1.2.0",
      "_view_name": "LayoutView",
      "align_content": null,
      "align_items": null,
      "align_self": null,
      "border": null,
      "bottom": null,
      "display": null,
      "flex": null,
      "flex_flow": null,
      "grid_area": null,
      "grid_auto_columns": null,
      "grid_auto_flow": null,
      "grid_auto_rows": null,
      "grid_column": null,
      "grid_gap": null,
      "grid_row": null,
      "grid_template_areas": null,
      "grid_template_columns": null,
      "grid_template_rows": null,
      "height": null,
      "justify_content": null,
      "justify_items": null,
      "left": null,
      "margin": null,
      "max_height": null,
      "max_width": null,
      "min_height": null,
      "min_width": null,
      "object_fit": null,
      "object_position": null,
      "order": null,
      "overflow": null,
      "overflow_x": null,
      "overflow_y": null,
      "padding": null,
      "right": null,
      "top": null,
      "visibility": null,
      "width": null
     }
    },
    "f673424a43d94595845a39b9c7c12b64": {
     "model_module": "@jupyter-widgets/controls",
     "model_module_version": "1.5.0",
     "model_name": "DescriptionStyleModel",
     "state": {
      "_model_module": "@jupyter-widgets/controls",
      "_model_module_version": "1.5.0",
      "_model_name": "DescriptionStyleModel",
      "_view_count": null,
      "_view_module": "@jupyter-widgets/base",
      "_view_module_version": "1.2.0",
      "_view_name": "StyleView",
      "description_width": ""
     }
    },
    "ffb228a571454d2d9829aaf93e4842be": {
     "model_module": "@jupyter-widgets/base",
     "model_module_version": "1.2.0",
     "model_name": "LayoutModel",
     "state": {
      "_model_module": "@jupyter-widgets/base",
      "_model_module_version": "1.2.0",
      "_model_name": "LayoutModel",
      "_view_count": null,
      "_view_module": "@jupyter-widgets/base",
      "_view_module_version": "1.2.0",
      "_view_name": "LayoutView",
      "align_content": null,
      "align_items": null,
      "align_self": null,
      "border": null,
      "bottom": null,
      "display": null,
      "flex": null,
      "flex_flow": null,
      "grid_area": null,
      "grid_auto_columns": null,
      "grid_auto_flow": null,
      "grid_auto_rows": null,
      "grid_column": null,
      "grid_gap": null,
      "grid_row": null,
      "grid_template_areas": null,
      "grid_template_columns": null,
      "grid_template_rows": null,
      "height": null,
      "justify_content": null,
      "justify_items": null,
      "left": null,
      "margin": null,
      "max_height": null,
      "max_width": null,
      "min_height": null,
      "min_width": null,
      "object_fit": null,
      "object_position": null,
      "order": null,
      "overflow": null,
      "overflow_x": null,
      "overflow_y": null,
      "padding": null,
      "right": null,
      "top": null,
      "visibility": null,
      "width": null
     }
    }
   }
  }
 },
 "nbformat": 4,
 "nbformat_minor": 4
}
