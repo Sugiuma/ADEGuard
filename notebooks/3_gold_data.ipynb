{
 "cells": [
  {
   "cell_type": "code",
   "execution_count": 2,
   "id": "98bb9c4d-4cc4-4330-a067-4435d383e1f0",
   "metadata": {},
   "outputs": [],
   "source": [
    "import pandas as pd"
   ]
  },
  {
   "cell_type": "code",
   "execution_count": 3,
   "id": "f949deb5-e8a5-41c4-8b84-b625b98c420f",
   "metadata": {},
   "outputs": [],
   "source": [
    "#df = pd.read_csv(\"vaers_cleaned.csv\")\n",
    "df = pd.read_csv(\"dataset_with_entities (2).csv\")"
   ]
  },
  {
   "cell_type": "code",
   "execution_count": 4,
   "id": "a6cb7a84-bdb5-45e6-8352-504e734378f8",
   "metadata": {},
   "outputs": [],
   "source": [
    "def stratified_sample(df, frac=None, n=None, random_state=42):\n",
    "    \"\"\"\n",
    "    Stratified sampling by AGE_GROUP, SEVERE, and VAX_NAME.\n",
    "    You can specify either `frac` (fraction of each group) or `n` (fixed number per group).\n",
    "    \n",
    "    Args:\n",
    "        df (pd.DataFrame): Input dataframe with columns AGE_YRS, HOSPITAL, L_THREAT, DIED, VAX_NAME\n",
    "        frac (float, optional): Fraction of rows to sample from each group.\n",
    "        n (int, optional): Fixed number of rows to sample from each group.\n",
    "        random_state (int): Random seed for reproducibility.\n",
    "        \n",
    "    Returns:\n",
    "        pd.DataFrame: Stratified sample\n",
    "    \"\"\"\n",
    "    import pandas as pd\n",
    "    \n",
    "    # Age bins\n",
    "    bins = [-1, 17, 30, 45, 60, 75, 120]\n",
    "    labels = [\"child\", \"young_adult\", \"adult\", \"middle_age\", \"senior\", \"elderly\"]\n",
    "    df = df.copy()\n",
    "    df[\"AGE_GROUP\"] = pd.cut(df[\"AGE_YRS\"], bins=bins, labels=labels)\n",
    "    \n",
    "    # Severity flag (hospital + death + life threat)\n",
    "    df[\"SEVERE\"] = df[[\"HOSPITAL\", \"L_THREAT\", \"DIED\"]].apply(\n",
    "        lambda x: 1 if (\"Y\" in str(x.values)) else 0, axis=1\n",
    "    )\n",
    "    \n",
    "    # Grouping keys\n",
    "    group_keys = [\"AGE_GROUP\", \"SEVERE\", \"VAX_NAME\"]\n",
    "    \n",
    "    # Apply stratified sampling\n",
    "    if frac is not None:\n",
    "        stratified = (\n",
    "            df.groupby(group_keys, group_keys=False)\n",
    "              .apply(lambda x: x.sample(frac=frac, random_state=random_state)\n",
    "                     if len(x) > 0 else x)\n",
    "        )\n",
    "    elif n is not None:\n",
    "        stratified = (\n",
    "            df.groupby(group_keys, group_keys=False)\n",
    "              .apply(lambda x: x.sample(n=min(len(x), n), random_state=random_state)\n",
    "                     if len(x) > 0 else x)\n",
    "        )\n",
    "    else:\n",
    "        raise ValueError(\"You must specify either `frac` or `n` for sampling.\")\n",
    "    \n",
    "    return stratified\n"
   ]
  },
  {
   "cell_type": "code",
   "execution_count": 7,
   "id": "4657b5a0-6b9b-4bb2-ae3b-a1986bd79dc9",
   "metadata": {},
   "outputs": [
    {
     "name": "stderr",
     "output_type": "stream",
     "text": [
      "C:\\Users\\sugan\\AppData\\Local\\Temp\\ipykernel_9888\\1906160151.py:34: FutureWarning: The default of observed=False is deprecated and will be changed to True in a future version of pandas. Pass observed=False to retain current behavior or observed=True to adopt the future default and silence this warning.\n",
      "  df.groupby(group_keys, group_keys=False)\n",
      "C:\\Users\\sugan\\AppData\\Local\\Temp\\ipykernel_9888\\1906160151.py:35: DeprecationWarning: DataFrameGroupBy.apply operated on the grouping columns. This behavior is deprecated, and in a future version of pandas the grouping columns will be excluded from the operation. Either pass `include_groups=False` to exclude the groupings or explicitly select the grouping columns after groupby to silence this warning.\n",
      "  .apply(lambda x: x.sample(frac=frac, random_state=random_state)\n"
     ]
    }
   ],
   "source": [
    "gold_subset = stratified_sample(df, frac=0.02)\n",
    "#sample = stratified_sample(df, n=100)\n"
   ]
  },
  {
   "cell_type": "code",
   "execution_count": 8,
   "id": "f8991eb4-80e2-46af-89a1-bfbb228ad8f7",
   "metadata": {},
   "outputs": [
    {
     "name": "stdout",
     "output_type": "stream",
     "text": [
      "✅ Gold Data subset shape: (361, 18)\n"
     ]
    }
   ],
   "source": [
    "print(f\"✅ Gold Data subset shape: {gold_subset.shape}\")\n",
    "#print(gold_subset.head(3)[[\"SYMPTOM_TEXT\", \"SYMPTOMS_STRUCT\",\"AGE_GROUP\", \"SEVERE\"]])"
   ]
  },
  {
   "cell_type": "code",
   "execution_count": 6,
   "id": "d792b54d-2510-4023-8763-37af5285630b",
   "metadata": {},
   "outputs": [
    {
     "data": {
      "text/plain": [
       "SYMPTOM_TEXT\n",
       "<class 'str'>      18397\n",
       "<class 'float'>       25\n",
       "Name: count, dtype: int64"
      ]
     },
     "execution_count": 6,
     "metadata": {},
     "output_type": "execute_result"
    }
   ],
   "source": [
    "#gold_subset['SYMPTOM_TEXT'].apply(type).value_counts()\n"
   ]
  },
  {
   "cell_type": "code",
   "execution_count": 9,
   "id": "34d573f8-fc45-412e-82cc-4cee6edef38e",
   "metadata": {},
   "outputs": [
    {
     "name": "stdout",
     "output_type": "stream",
     "text": [
      "💾 Saved gold subset for manual annotation -> ade_gold_subset_20k.csv\n"
     ]
    }
   ],
   "source": [
    "# Save for annotation\n",
    "gold_subset.to_csv(\"./sample1.csv\", index=False)\n",
    "print(\"💾 Saved gold subset for manual annotation -> ade_gold_subset_20k.csv\")"
   ]
  },
  {
   "cell_type": "code",
   "execution_count": 10,
   "id": "88440278-3041-49a0-aa99-2a8a6b29d361",
   "metadata": {},
   "outputs": [],
   "source": [
    "all_symptoms = gold_subset['SYMPTOMS_STRUCT'].tail(50).tolist()"
   ]
  },
  {
   "cell_type": "code",
   "execution_count": 11,
   "id": "fbd8e88a-82a1-4e3e-a7c8-6eb5dbbcac3e",
   "metadata": {},
   "outputs": [
    {
     "data": {
      "text/plain": [
       "['Acute respiratory distress syndrome | COVID-19 | Dyspnoea | Fatigue | SARS-CoV-2 test positive',\n",
       " 'Chest X-ray | Renal impairment | Cough | Fall | Muscular weakness | Pneumonia',\n",
       " 'Malignant neoplasm of ampulla of Vater |  |  |  | ',\n",
       " 'Acute respiratory failure | Computerised tomogram thorax abnormal | Inappropriate schedule of product administration | SARS-CoV-2 test positive | Anticoagulant therapy | Condition aggravated | Oropharyngeal pain | Scan with contrast abnormal | Bronchiectasis | Cough | Pain | Tachypnoea | COVID-19 | Death | Pulmonary thrombosis | COVID-19 pneumonia | Headache | Respiratory disorder',\n",
       " 'COVID-19 | SARS-CoV-2 test positive | Cough | Malaise | Pain | Rhinorrhoea',\n",
       " 'COVID-19 | SARS-CoV-2 test positive | Vaccine breakthrough infection |  | ',\n",
       " \"Acute kidney injury | COVID-19 | Drug screen negative | Hyperkalaemia | Mental status changes | SARS-CoV-2 test positive | Vertebral foraminal stenosis | Alcohol test negative | Computerised tomogram spine | Dysphagia | Hypernatraemia | Metabolic encephalopathy | Sepsis | Blood creatinine increased | Culture urine negative | Encephalopathy | Influenza virus test positive | Parkinson's disease | Streptococcus test positive | Blood sodium increased | Death | Endotracheal intubation | Intensive care | Pneumonia | Tremor | Blood thyroid stimulating hormone normal | Decubitus ulcer | Gastrointestinal tube insertion | Magnetic resonance imaging head normal | Rhabdomyolysis | Unresponsive to stimuli\",\n",
       " 'Chest pain | Stent placement | Death | Thrombosis | Myocardial infarction | Pain in extremity | SARS-CoV-2 test negative',\n",
       " 'COVID-19 | Vaccine breakthrough infection |  |  | ',\n",
       " 'Acute respiratory failure | Malaise | COVID-19 | Pneumonia | COVID-19 pneumonia | Renal impairment | Chest X-ray abnormal | Dyspnoea',\n",
       " 'Acute respiratory failure | Chest pain | Hypophagia | Vomiting | Atelectasis | Computerised tomogram thorax abnormal | Hypotension | White blood cell count increased | Blood pressure systolic decreased | Condition aggravated | Lung disorder | COVID-19 | Dyspnoea | Nausea | Cardiac failure congestive | Electrocardiogram normal | Troponin increased',\n",
       " 'Breakthrough COVID-19 |  |  |  | ',\n",
       " 'Cerebral haemorrhage |  |  |  | ',\n",
       " 'Acute kidney injury | Chest X-ray normal | Crepitations | Laboratory test abnormal | Wheezing | Anaemia | Chills | Diarrhoea | Metabolic function test normal | Asthenia | Chronic kidney disease | Dyspnoea | Pyrexia | COVID-19 | Clostridium test negative | Hypoxia | Renal impairment | COVID-19 pneumonia | Cough | Inappropriate schedule of product administration | Vaccine breakthrough infection',\n",
       " 'Bacteraemia | COVID-19 | Enterococcal infection | Hypoxia | SARS-CoV-2 test positive',\n",
       " 'Acute respiratory failure | Fall | Asthenia | Pneumonia bacterial | COVID-19 | SARS-CoV-2 test positive | COVID-19 pneumonia | Cardiac failure congestive',\n",
       " 'Asthenia | COVID-19 | Drug ineffective | Gastrointestinal disorder | SARS-CoV-2 test',\n",
       " 'Angiogram pulmonary normal | COVID-19 | Dizziness | Hypervolaemia | Pancytopenia | Bilirubin conjugated increased | COVID-19 pneumonia | Dyspnoea | International normalised ratio increased | Platelet count decreased | Blood bilirubin increased | Cardiac disorder | Dyspnoea exertional | Lung opacity | SARS-CoV-2 test positive | Blood potassium normal | Cardiac murmur | Exposure to SARS-CoV-2 | Mental status changes | Swelling | Brain natriuretic peptide increased | Chest X-ray abnormal | Fibrin D dimer increased | Oedema peripheral | White blood cell count decreased',\n",
       " 'Asthenia | COVID-19 | SARS-CoV-2 test positive |  | ',\n",
       " 'AST/ALT ratio abnormal | Aortic arteriosclerosis | Asthenia | Benign prostatic hyperplasia | Blood bilirubin normal | Blood glucose normal | Blood potassium normal | Bronchial wall thickening | Cardiac arrest | Culture urine | Eosinophil percentage | Gynaecomastia | Hepatic calcification | Hypopnoea | Influenza B virus test | Lung consolidation | Lymphocyte percentage decreased | Microbiology test normal | Neutrophil count increased | Platelet count normal | Prostatic obstruction | Pulmonary mass | Red cell distribution width increased | SARS-CoV-1 test negative | Specific gravity urine normal | Tricuspid valve incompetence | Urine analysis | White blood cells urine positive | Acute respiratory failure | Aortic stenosis | Atrial fibrillation | Bilirubin urine | Blood calcium decreased | Blood lactic acid | Blood sodium normal | C-reactive protein increased | Chest X-ray abnormal | Device related infection | Glomerular filtration rate decreased | Haematocrit decreased | Hepatic lesion | Immature granulocyte count | Laboratory test abnormal | Lung infiltration | Mean cell haemoglobin concentration normal | Microscopy | Neutrophil percentage increased | Pleural effusion | Protein total normal | Pulmonary valve incompetence | Renal cyst | SARS-CoV-2 antibody test positive | Splenic calcification | Troponin I increased | Urine ketone body absent | pH urine normal | Alanine aminotransferase normal | Arteriosclerosis | Bacterial test positive | Bladder catheterisation | Blood chloride increased | Blood magnesium | Blood urea nitrogen/creatinine ratio | COVID-19 | Chronic kidney disease | Echocardiogram abnormal | Glucose urine absent | Haematology test | Hypoalbuminaemia | Infection | Laboratory test normal | Lung opacity | Mean cell haemoglobin normal | Mitral valve incompetence | Nitrite urine absent | Pneumonia | Protein urine absent | Red blood cell count decreased | Rib fracture | SARS-CoV-2 test positive | Splenic granuloma | Urinary retention | Urine leukocyte esterase positive | Anion gap | Arteriosclerosis coronary artery | Basophil count decreased | Blood albumin decreased | Blood creatinine increased | Blood magnesium decreased | Blood urea normal | COVID-19 pneumonia | Computerised tomogram thorax abnormal | Ejection fraction | Granulocyte percentage | Haemoglobin decreased | Hypomagnesaemia | Inferior vena cava dilatation | Left atrial enlargement | Lymph node calcification | Mean cell volume normal | Monocyte count increased | Normocytic anaemia | Pneumonia bacterial | Pulmonary calcification | Red blood cell nucleated morphology | Right atrial enlargement | Sepsis | Sputum culture | Urinary sediment | Urobilinogen urine | Anticoagulant therapy | Aspartate aminotransferase normal | Basophil percentage decreased | Blood alkaline phosphatase normal | Blood culture negative | Blood osmolarity decreased | Blood urine present | Carbon dioxide normal | Condition aggravated | Eosinophil count normal | Granulomatous liver disease | Heart rate irregular | Hypophagia | Influenza A virus test negative | Left ventricular dysfunction | Lymphocyte count normal | Mean platelet volume normal | Monocyte percentage increased | Oesophageal dilatation | Procalcitonin | Pulmonary granuloma | Red blood cells urine negative | Right ventricular enlargement | Serology test | Staphylococcus test negative | Urinary tract infection fungal | White blood cell count increased',\n",
       " 'Atrial fibrillation | Thyroid disorder | Blood pressure measurement | Feeling abnormal | Hypertension | Nervousness',\n",
       " 'COVID-19 | Respiratory tract congestion | Cough | SARS-CoV-2 test positive | Dizziness | Dyspnoea | Nausea',\n",
       " 'Acute respiratory failure | COVID-19 | Fibrin D dimer |  | ',\n",
       " 'Cholecystitis | Ultrasound scan | Illness | Vomiting | Laboratory test | Magnetic resonance imaging | Nausea',\n",
       " 'Breakthrough COVID-19 | SARS-CoV-2 test positive |  |  | ',\n",
       " 'Acute respiratory failure | Dyspnoea | COVID-19 | Hypoxia | COVID-19 pneumonia | Respiratory tract congestion | Chest pain | SARS-CoV-2 test positive | Cough',\n",
       " 'Death |  |  |  | ',\n",
       " 'COVID-19 pneumonia | Lung opacity | Cellulitis | Chest X-ray abnormal | Pyrexia | Death | Inappropriate schedule of product administration | Hypoxia | Interstitial lung disease',\n",
       " 'COVID-19 | Death | SARS-CoV-2 test positive |  | ',\n",
       " 'Atrial fibrillation | Cough | Nasal congestion | Vaccine breakthrough infection | COVID-19 | Dyspnoea | Pyrexia | COVID-19 pneumonia | Electrocardiogram abnormal | SARS-CoV-2 test positive | Chest X-ray abnormal | Fatigue | Sepsis | Chills | Lung infiltration | Troponin increased',\n",
       " 'Abnormal dreams | Pyrexia | SARS-CoV-2 test | Atrial fibrillation | Chills | Retching | Cough | Fatigue | Headache | Pneumonia | Peripheral coldness | Retching',\n",
       " 'Breast discomfort | Magnetic resonance imaging head | Chest discomfort | Neck pain | Computerised tomogram head | Paraesthesia | Electric shock sensation | Sudden hearing loss | Immediate post-injection reaction | Vertigo',\n",
       " 'Asthenia | Decreased appetite | Dyspnoea | Dyspnoea exertional | Fatigue',\n",
       " 'Blood test | Myocardial infarction | Myocarditis |  | ',\n",
       " 'Acute respiratory failure | Atelectasis | Body temperature increased | Chronic kidney disease | Electrocardiogram | Haematocrit decreased | Hypoxia | Metabolic function test abnormal | Productive cough | Rhinorrhoea | Albumin globulin ratio decreased | Blood creatinine increased | Brain natriuretic peptide | Cough | Elliptocytosis | Haemoglobin decreased | Lung infiltration | Mobility decreased | Protein total normal | SARS-CoV-2 test positive | Anion gap | Blood glucose normal | COVID-19 | Diarrhoea | Fatigue | Hyperlipidaemia | Macrocytosis | Obesity | Red blood cell anisocytes present | Troponin increased | Anisocytosis | Blood lactic acid | COVID-19 pneumonia | Differential white blood cell count abnormal | Full blood count abnormal | Hypertension | Malaise | Platelet count decreased | Red blood cell poikilocytes present | White blood cell morphology abnormal | Asthenia | Blood potassium decreased | Chest X-ray abnormal | Dyspnoea | Glomerular filtration rate decreased | Hypokalaemia | Mean platelet volume increased | Poikilocytosis | Respiratory tract congestion',\n",
       " 'Blood test | Pulmonary oedema | Computerised tomogram | Renal injury | Dyspnoea | X-ray | Glomerular filtration rate decreased | Loss of consciousness',\n",
       " 'Ageusia | Dyspnoea | Nausea | SARS-CoV-2 test positive | Anosmia | Fatigue | Oropharyngeal pain | Vaccine breakthrough infection | COVID-19 | Headache | Pain | Vomiting | Cough | Myalgia | Pyrexia | Diarrhoea | Nasal congestion | Rhinorrhoea',\n",
       " 'Angiogram pulmonary abnormal | Lung opacity | COVID-19 | Mental status changes | Dyspnoea | SARS-CoV-2 test positive | Endotracheal intubation | Vaccine breakthrough infection | Hypoxia',\n",
       " 'Hypotension | Pulmonary embolism | Symptom recurrence |  | ',\n",
       " 'COVID-19 | Death | Dyspnoea | SARS-CoV-2 test positive | ',\n",
       " 'Asthenia | Blood pressure decreased | Death | Unresponsive to stimuli | ',\n",
       " 'Chest pain | Pericarditis | Painful respiration | SARS-CoV-2 test | Pericarditis |  | ',\n",
       " 'Death | Urinary tract infection | Ileus | Pneumonia | SARS-CoV-2 test negative | Sepsis',\n",
       " 'Acute kidney injury | Cerebrovascular accident |  |  | ',\n",
       " 'Acute respiratory failure | Blood alkaline phosphatase normal | Blood chloride normal | Blood urea increased | Chronic kidney disease | Culture urine | Full blood count abnormal | Influenza A virus test negative | Monocyte percentage | Protein total decreased | Troponin normal | Adenovirus test | Blood bilirubin normal | Blood creatinine increased | Bordetella test negative | Computerised tomogram head abnormal | Dyspnoea | Haematocrit decreased | Influenza B virus test | Mycoplasma test negative | Rales | White blood cell count decreased | Alanine aminotransferase normal | Blood calcium | Blood magnesium normal | COVID-19 | Computerised tomogram neck | Electrocardiogram ST-T change | Haemoglobin decreased | Influenza virus test negative | Neutrophil percentage increased | Respiratory syncytial virus test negative | Arthralgia | Blood calcium decreased | Blood potassium decreased | Chest X-ray abnormal | Computerised tomogram pelvis abnormal | Enterovirus test negative | Human metapneumovirus test | Lung opacity | Oxygen saturation decreased | SARS-CoV-2 test positive | Aspartate aminotransferase normal | Blood chloride decreased | Blood sodium normal | Chlamydia test negative | Coronavirus test negative | Eosinophil percentage decreased | Human rhinovirus test | Lymphocyte percentage decreased | Platelet count normal | Tachypnoea',\n",
       " 'Acute respiratory failure | Deep vein thrombosis | Mental status changes | Syncope | ',\n",
       " 'Acute kidney injury | Chronic kidney disease | Metabolic acidosis | Asthenia | Confusional state | Pyrexia | Blood creatinine increased | Cough | SARS-CoV-2 test positive | COVID-19 | Glycosylated haemoglobin normal | Chest X-ray normal | Lactic acidosis',\n",
       " 'Pulmonary embolism |  |  |  | ',\n",
       " 'Asthenia | Nausea | COVID-19 | Urine output decreased | Diarrhoea | Vomiting | Fatigue | Hypophagia',\n",
       " 'COVID-19 | SARS-CoV-2 test positive |  |  | ']"
      ]
     },
     "execution_count": 11,
     "metadata": {},
     "output_type": "execute_result"
    }
   ],
   "source": [
    "all_symptoms"
   ]
  },
  {
   "cell_type": "code",
   "execution_count": null,
   "id": "8e64bc22-3643-48f0-b767-17f6f716adb9",
   "metadata": {},
   "outputs": [],
   "source": [
    "\n"
   ]
  }
 ],
 "metadata": {
  "kernelspec": {
   "display_name": "Python 3 (ipykernel)",
   "language": "python",
   "name": "python3"
  },
  "language_info": {
   "codemirror_mode": {
    "name": "ipython",
    "version": 3
   },
   "file_extension": ".py",
   "mimetype": "text/x-python",
   "name": "python",
   "nbconvert_exporter": "python",
   "pygments_lexer": "ipython3",
   "version": "3.13.0"
  }
 },
 "nbformat": 4,
 "nbformat_minor": 5
}
